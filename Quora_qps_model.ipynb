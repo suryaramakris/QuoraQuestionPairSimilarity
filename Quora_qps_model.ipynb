{
 "cells": [
  {
   "cell_type": "markdown",
   "id": "9b939ffd",
   "metadata": {},
   "source": [
    "<h1 style=\"text-align:center;font-size:30px;\" > Quora Question Pairs Similarity </h1>"
   ]
  },
  {
   "cell_type": "markdown",
   "id": "ec8c3008",
   "metadata": {},
   "source": [
    "### Problem Description\n",
    "The goal of this competition is to predict which of the provided pairs of questions contain two questions with the same meaning. The ground truth is the set of labels that have been supplied by human experts. The ground truth labels are inherently subjective, as the true meaning of sentences can never be known with certainty. Human labeling is also a 'noisy' process, and reasonable people will disagree. As a result, the ground truth labels on this dataset should be taken to be 'informed' but not 100% accurate, and may include incorrect labeling. We believe the labels, on the whole, to represent a reasonable consensus, but this may often not be true on a case by case basis for individual items in the dataset.\n",
    "\n",
    "### Real world/Business Objectives and Constraints \n",
    "We would want a probability of a pair of questions.<br>\n",
    "Interpretability is partially important.\n",
    "\n",
    "###  Data Overview \n",
    "id - the id of a training set question pair<br>\n",
    "qid1, qid2 - unique ids of each question (only available in train.csv)<br>\n",
    "question1, question2 - the full text of each question<br>\n",
    "is_duplicate - the target variable, set to 1 if question1 and question2 have essentially the same meaning, and 0 otherwise.<br>\n",
    "\n",
    "### Type of ML problem \n",
    "It is a Classification problem,since is_duplicate is our target varaiable.\n",
    "### Performance Metric \n",
    "Log-Loss<br>\n",
    "Confusion Matrix\n",
    "\n",
    "### NOTE : \n",
    "Most of Feature Engineering ideas are taken from some of the popular websites and platforms"
   ]
  },
  {
   "cell_type": "code",
   "execution_count": 74,
   "id": "ce434b63",
   "metadata": {},
   "outputs": [
    {
     "name": "stdout",
     "output_type": "stream",
     "text": [
      "Requirement already satisfied: fuzzywuzzy in c:\\users\\soorya\\anaconda3\\lib\\site-packages (0.18.0)\n"
     ]
    }
   ],
   "source": [
    "#importing necessary libraries \n",
    "!pip install fuzzywuzzy\n",
    "import numpy as np\n",
    "import pandas as pd\n",
    "import seaborn as sns\n",
    "import matplotlib.pyplot as plt\n",
    "%matplotlib inline\n",
    "import seaborn as sns\n",
    "\n",
    "import re\n",
    "from nltk.corpus import stopwords\n",
    "from nltk.stem import PorterStemmer\n",
    "from bs4 import BeautifulSoup\n",
    "from fuzzywuzzy import fuzz\n",
    "\n",
    "import warnings\n",
    "warnings.filterwarnings(\"ignore\")"
   ]
  },
  {
   "cell_type": "markdown",
   "id": "8e0bfec4",
   "metadata": {},
   "source": [
    "# Reading data and basic stats "
   ]
  },
  {
   "cell_type": "code",
   "execution_count": 75,
   "id": "7219b0cc",
   "metadata": {},
   "outputs": [
    {
     "name": "stdout",
     "output_type": "stream",
     "text": [
      "Number of data points: 404290\n"
     ]
    }
   ],
   "source": [
    "df = pd.read_csv(\"quora_train.csv\")\n",
    "\n",
    "print(\"Number of data points:\",df.shape[0])"
   ]
  },
  {
   "cell_type": "code",
   "execution_count": 76,
   "id": "5a67e7dd",
   "metadata": {},
   "outputs": [
    {
     "data": {
      "text/html": [
       "<div>\n",
       "<style scoped>\n",
       "    .dataframe tbody tr th:only-of-type {\n",
       "        vertical-align: middle;\n",
       "    }\n",
       "\n",
       "    .dataframe tbody tr th {\n",
       "        vertical-align: top;\n",
       "    }\n",
       "\n",
       "    .dataframe thead th {\n",
       "        text-align: right;\n",
       "    }\n",
       "</style>\n",
       "<table border=\"1\" class=\"dataframe\">\n",
       "  <thead>\n",
       "    <tr style=\"text-align: right;\">\n",
       "      <th></th>\n",
       "      <th>id</th>\n",
       "      <th>qid1</th>\n",
       "      <th>qid2</th>\n",
       "      <th>question1</th>\n",
       "      <th>question2</th>\n",
       "      <th>is_duplicate</th>\n",
       "    </tr>\n",
       "  </thead>\n",
       "  <tbody>\n",
       "    <tr>\n",
       "      <th>0</th>\n",
       "      <td>0</td>\n",
       "      <td>1</td>\n",
       "      <td>2</td>\n",
       "      <td>What is the step by step guide to invest in sh...</td>\n",
       "      <td>What is the step by step guide to invest in sh...</td>\n",
       "      <td>0</td>\n",
       "    </tr>\n",
       "    <tr>\n",
       "      <th>1</th>\n",
       "      <td>1</td>\n",
       "      <td>3</td>\n",
       "      <td>4</td>\n",
       "      <td>What is the story of Kohinoor (Koh-i-Noor) Dia...</td>\n",
       "      <td>What would happen if the Indian government sto...</td>\n",
       "      <td>0</td>\n",
       "    </tr>\n",
       "    <tr>\n",
       "      <th>2</th>\n",
       "      <td>2</td>\n",
       "      <td>5</td>\n",
       "      <td>6</td>\n",
       "      <td>How can I increase the speed of my internet co...</td>\n",
       "      <td>How can Internet speed be increased by hacking...</td>\n",
       "      <td>0</td>\n",
       "    </tr>\n",
       "    <tr>\n",
       "      <th>3</th>\n",
       "      <td>3</td>\n",
       "      <td>7</td>\n",
       "      <td>8</td>\n",
       "      <td>Why am I mentally very lonely? How can I solve...</td>\n",
       "      <td>Find the remainder when [math]23^{24}[/math] i...</td>\n",
       "      <td>0</td>\n",
       "    </tr>\n",
       "    <tr>\n",
       "      <th>4</th>\n",
       "      <td>4</td>\n",
       "      <td>9</td>\n",
       "      <td>10</td>\n",
       "      <td>Which one dissolve in water quikly sugar, salt...</td>\n",
       "      <td>Which fish would survive in salt water?</td>\n",
       "      <td>0</td>\n",
       "    </tr>\n",
       "  </tbody>\n",
       "</table>\n",
       "</div>"
      ],
      "text/plain": [
       "   id  qid1  qid2                                          question1  \\\n",
       "0   0     1     2  What is the step by step guide to invest in sh...   \n",
       "1   1     3     4  What is the story of Kohinoor (Koh-i-Noor) Dia...   \n",
       "2   2     5     6  How can I increase the speed of my internet co...   \n",
       "3   3     7     8  Why am I mentally very lonely? How can I solve...   \n",
       "4   4     9    10  Which one dissolve in water quikly sugar, salt...   \n",
       "\n",
       "                                           question2  is_duplicate  \n",
       "0  What is the step by step guide to invest in sh...             0  \n",
       "1  What would happen if the Indian government sto...             0  \n",
       "2  How can Internet speed be increased by hacking...             0  \n",
       "3  Find the remainder when [math]23^{24}[/math] i...             0  \n",
       "4            Which fish would survive in salt water?             0  "
      ]
     },
     "execution_count": 76,
     "metadata": {},
     "output_type": "execute_result"
    }
   ],
   "source": [
    "df.head()"
   ]
  },
  {
   "cell_type": "code",
   "execution_count": 77,
   "id": "03c2c911",
   "metadata": {},
   "outputs": [
    {
     "name": "stdout",
     "output_type": "stream",
     "text": [
      "<class 'pandas.core.frame.DataFrame'>\n",
      "RangeIndex: 404290 entries, 0 to 404289\n",
      "Data columns (total 6 columns):\n",
      " #   Column        Non-Null Count   Dtype \n",
      "---  ------        --------------   ----- \n",
      " 0   id            404290 non-null  int64 \n",
      " 1   qid1          404290 non-null  int64 \n",
      " 2   qid2          404290 non-null  int64 \n",
      " 3   question1     404289 non-null  object\n",
      " 4   question2     404288 non-null  object\n",
      " 5   is_duplicate  404290 non-null  int64 \n",
      "dtypes: int64(4), object(2)\n",
      "memory usage: 18.5+ MB\n"
     ]
    }
   ],
   "source": [
    "df.info()"
   ]
  },
  {
   "cell_type": "code",
   "execution_count": 78,
   "id": "fad4eed8",
   "metadata": {},
   "outputs": [
    {
     "data": {
      "text/plain": [
       "0"
      ]
     },
     "execution_count": 78,
     "metadata": {},
     "output_type": "execute_result"
    }
   ],
   "source": [
    "#checking for Number of duplicate rows in a dataframe\n",
    "df.duplicated().sum()"
   ]
  },
  {
   "cell_type": "code",
   "execution_count": 79,
   "id": "120f3615",
   "metadata": {},
   "outputs": [
    {
     "data": {
      "text/plain": [
       "<AxesSubplot:>"
      ]
     },
     "execution_count": 79,
     "metadata": {},
     "output_type": "execute_result"
    },
    {
     "data": {
      "image/png": "[encoded data removed]",
      "text/plain": [
       "<Figure size 432x288 with 1 Axes>"
      ]
     },
     "metadata": {
      "needs_background": "light"
     },
     "output_type": "display_data"
    }
   ],
   "source": [
    "#distribution of target variable\n",
    "c = ['orange', 'black','red', 'yellow', 'blue', 'orange']\n",
    "df['is_duplicate'].value_counts().plot.bar(color=c)"
   ]
  },
  {
   "cell_type": "code",
   "execution_count": 80,
   "id": "7ded7964",
   "metadata": {},
   "outputs": [
    {
     "name": "stdout",
     "output_type": "stream",
     "text": [
      "number of unique questions in data set :  537933\n"
     ]
    }
   ],
   "source": [
    "#number of unique questions in data set\n",
    "uniq_q1 = list(df['qid1'].unique())\n",
    "uniq_q2 = list(df['qid2'].unique())\n",
    "print(\"number of unique questions in data set : \",len(set(uniq_q1+uniq_q2)))"
   ]
  },
  {
   "cell_type": "code",
   "execution_count": 82,
   "id": "b1c7d66a",
   "metadata": {},
   "outputs": [
    {
     "data": {
      "text/plain": [
       "2559      157\n",
       "30782     120\n",
       "4044      111\n",
       "2561       88\n",
       "14376      79\n",
       "         ... \n",
       "416446      1\n",
       "416444      1\n",
       "416441      1\n",
       "416439      1\n",
       "537933      1\n",
       "Length: 537933, dtype: int64"
      ]
     },
     "execution_count": 82,
     "metadata": {},
     "output_type": "execute_result"
    }
   ],
   "source": [
    "#number of occurrence of each question\n",
    "uniq_ques = list(df['qid1'])+list(df['qid2'])\n",
    "uniq_ques = pd.Series(uniq_ques)\n",
    "uniq_ques.value_counts()"
   ]
  },
  {
   "cell_type": "code",
   "execution_count": 83,
   "id": "91d1c503",
   "metadata": {},
   "outputs": [
    {
     "name": "stdout",
     "output_type": "stream",
     "text": [
      "Maximum number of count a single question appeared  157\n",
      "Minimum number of count a single question appeared  1\n"
     ]
    }
   ],
   "source": [
    "print(\"Maximum number of count a single question appeared \",uniq_ques.value_counts().max())\n",
    "print(\"Minimum number of count a single question appeared \",uniq_ques.value_counts().min())"
   ]
  },
  {
   "cell_type": "code",
   "execution_count": 84,
   "id": "d0750294",
   "metadata": {},
   "outputs": [],
   "source": [
    "# Number of questions that appear only once and more than once\n",
    "qs_e1 = np.sum(uniq_ques.value_counts()==1)\n",
    "qs_g1 = np.sum(uniq_ques.value_counts()>1)"
   ]
  },
  {
   "cell_type": "code",
   "execution_count": 85,
   "id": "fabe76be",
   "metadata": {},
   "outputs": [
    {
     "data": {
      "image/png": "[encoded data removed]",
      "text/plain": [
       "<Figure size 432x288 with 1 Axes>"
      ]
     },
     "metadata": {
      "needs_background": "light"
     },
     "output_type": "display_data"
    }
   ],
   "source": [
    "x = ['appeared_only_once','Repeated_question']\n",
    "y = [qs_e1,qs_g1]\n",
    "sns.barplot(x=x,y=y,palette=c)\n",
    "plt.show()"
   ]
  },
  {
   "cell_type": "markdown",
   "id": "7134bc1c",
   "metadata": {},
   "source": [
    "# Basic Feature Extraction"
   ]
  },
  {
   "cell_type": "markdown",
   "id": "a4aa3854",
   "metadata": {},
   "source": [
    "- ____q1len____ = Length of q1\n",
    "- ____q2len____ = Length of q2\n",
    "- ____q1_n_words____ = Number of words in Question 1\n",
    "- ____q2_n_words____ = Number of words in Question 2\n",
    "- ____word_Common____ = (Number of common unique words in Question 1 and Question 2)\n",
    "- ____word_Total____ =(Total num of words in Question 1 + Total num of words in Question 2)\n",
    "- ____word_share____ = (word_common)/(word_Total)"
   ]
  },
  {
   "cell_type": "code",
   "execution_count": 86,
   "id": "e20fbcb4",
   "metadata": {},
   "outputs": [],
   "source": [
    "df['q1len'] = df['question1'].apply(lambda x: len(str(x)))\n",
    "df['q2len'] = df['question2'].apply(lambda x: len(str(x)))"
   ]
  },
  {
   "cell_type": "code",
   "execution_count": 87,
   "id": "3df221c7",
   "metadata": {},
   "outputs": [],
   "source": [
    "df['q1_n_words'] = df['question1'].apply(lambda x: len(str(x).lower().split()))\n",
    "df['q2_n_words'] = df['question2'].apply(lambda x: len(str(x).lower().split()))"
   ]
  },
  {
   "cell_type": "code",
   "execution_count": 88,
   "id": "c19e740e",
   "metadata": {},
   "outputs": [],
   "source": [
    "def word_common(row):\n",
    "    sen1 = set(map(lambda x: x.lower().strip(), str(row['question1']).split(\" \")))\n",
    "    sen2 = set(map(lambda x: x.lower().strip(), str(row['question2']).split(\" \")))\n",
    "    return 1.0 * len(sen1 & sen2)\n",
    "df['word_Common'] = df.apply(word_common, axis=1)"
   ]
  },
  {
   "cell_type": "code",
   "execution_count": 89,
   "id": "94c36c4f",
   "metadata": {},
   "outputs": [],
   "source": [
    "def word_total(row):\n",
    "    sen1 = list(map(lambda x: x.lower().strip(),str(row['question1']).split(\" \")))\n",
    "    sen2 = list(map(lambda x: x.lower().strip(),str(row['question2']).split(\" \")))\n",
    "    return 1.0*len(set(sen1+sen2))\n",
    "df['wordtotal '] = df.apply(word_total,axis=1)"
   ]
  },
  {
   "cell_type": "code",
   "execution_count": 90,
   "id": "866871ad",
   "metadata": {},
   "outputs": [],
   "source": [
    "def wordshare(row):\n",
    "    sen1 = list(map(lambda x: x.lower().strip(),str(row['question1']).split(\" \")))\n",
    "    sen2 = list(map(lambda x: x.lower().strip(),str(row['question2']).split(\" \")))\n",
    "    return 1.0 * (len(set(set(sen1)&set(sen2)))/len(sen1+sen2))\n",
    "df['word_share'] = df.apply(wordshare,axis=1)"
   ]
  },
  {
   "cell_type": "code",
   "execution_count": 91,
   "id": "9f9be75c",
   "metadata": {},
   "outputs": [
    {
     "data": {
      "text/plain": [
       "<AxesSubplot:xlabel='q1_n_words', ylabel='Density'>"
      ]
     },
     "execution_count": 91,
     "metadata": {},
     "output_type": "execute_result"
    },
    {
     "data": {
      "image/png": "[encoded data removed]",
      "text/plain": [
       "<Figure size 432x288 with 1 Axes>"
      ]
     },
     "metadata": {
      "needs_background": "light"
     },
     "output_type": "display_data"
    }
   ],
   "source": [
    "#univariate analysis for new features derived\n",
    "sns.distplot(df[df['is_duplicate']==0]['q1_n_words'],color='red')\n",
    "sns.distplot(df[df['is_duplicate']==1]['q1_n_words'],color='blue')"
   ]
  },
  {
   "cell_type": "markdown",
   "id": "13e9d568",
   "metadata": {},
   "source": [
    "#### Since the distributions overlaps exactly on each other, this feature may not be that helpful in classifying the target variable."
   ]
  },
  {
   "cell_type": "code",
   "execution_count": 92,
   "id": "1c51de35",
   "metadata": {},
   "outputs": [
    {
     "data": {
      "text/plain": [
       "<AxesSubplot:xlabel='word_share', ylabel='Density'>"
      ]
     },
     "execution_count": 92,
     "metadata": {},
     "output_type": "execute_result"
    },
    {
     "data": {
      "image/png": "[encoded data removed]",
      "text/plain": [
       "<Figure size 432x288 with 1 Axes>"
      ]
     },
     "metadata": {
      "needs_background": "light"
     },
     "output_type": "display_data"
    }
   ],
   "source": [
    "#univariate analysis for new features derived\n",
    "sns.distplot(df[df['is_duplicate']==0]['word_share'],color='red')\n",
    "sns.distplot(df[df['is_duplicate']==1]['word_share'],color='blue')"
   ]
  },
  {
   "cell_type": "markdown",
   "id": "971b5593",
   "metadata": {},
   "source": [
    "#### Since the distributions has some distinction, this feature surely add some importance in classifying the target variable."
   ]
  },
  {
   "cell_type": "code",
   "execution_count": 132,
   "id": "dd2b9e35",
   "metadata": {},
   "outputs": [
    {
     "name": "stderr",
     "output_type": "stream",
     "text": [
      "[nltk_data] Downloading package stopwords to\n",
      "[nltk_data]     C:\\Users\\Soorya\\AppData\\Roaming\\nltk_data...\n",
      "[nltk_data]   Package stopwords is already up-to-date!\n"
     ]
    },
    {
     "data": {
      "text/plain": [
       "True"
      ]
     },
     "execution_count": 132,
     "metadata": {},
     "output_type": "execute_result"
    }
   ],
   "source": [
    "import nltk\n",
    "nltk.download('stopwords') "
   ]
  },
  {
   "cell_type": "code",
   "execution_count": 94,
   "id": "fb7dd68b",
   "metadata": {},
   "outputs": [],
   "source": [
    "#preprocessing the text features like removing angular braces, shortcuts, punctuation, special charaters etc..\n",
    "def textpreprocess(x):\n",
    "    x = str(x).lower()\n",
    "    x = x.replace(\",000,000\", \"m\").replace(\"(\",\"\").replace(\")\",\"\").replace(\"?\",\" \").replace(\"<\",\" \").replace(\">\",\" \")\\\n",
    "        .replace(\",\",\" \").replace(\".\",\" \").replace(\"$\",\"dollars\").replace(\"%\",\"percent\").replace(\"&\",\" \").replace(\"!\",\"\")\\\n",
    "        .replace(\"~\",\"\").replace(\"^\",\" \").replace(\"'ve\",\" have\").replace(\"i'm\",\"i am\").replace(\"n't\",\" not\")\\\n",
    "        .replace(\"'s\",\" is\")\n",
    "    porter = PorterStemmer()\n",
    "    x = porter.stem(x)\n",
    "    return x"
   ]
  },
  {
   "cell_type": "markdown",
   "id": "5974bb9a",
   "metadata": {},
   "source": [
    "# Feature Extraction (NLP and Fuzzy Features)"
   ]
  },
  {
   "cell_type": "markdown",
   "id": "e593bca8",
   "metadata": {},
   "source": [
    "Features:\n",
    "- __cwc_min__ :  common_word_count / (min(len(q1_words), len(q2_words))\n",
    "<br>\n",
    "<br>\n",
    "- __cwc_max__ :  common_word_count / (max(len(q1_words), len(q2_words))\n",
    "<br>\n",
    "<br>\n",
    "- __csc_min__ :  common_stop_count / (min(len(q1_stops), len(q2_stops))\n",
    "<br>\n",
    "<br>\n",
    "- __csc_max__ :  common_stop_count / (max(len(q1_stops), len(q2_stops))\n",
    "<br>\n",
    "<br>\n",
    "- __ctc_min__ :  common_token_count / (min(len(q1_tokens), len(q2_tokens))\n",
    "<br>\n",
    "<br>\n",
    "\n",
    "- __ctc_max__ :  common_token_count / (max(len(q1_tokens), len(q2_tokens))\n",
    "<br>\n",
    "<br>\n",
    "\n",
    "- __fuzz_ratio__ :  https://github.com/seatgeek/fuzzywuzzy#usage\n",
    "http://chairnerd.seatgeek.com/fuzzywuzzy-fuzzy-string-matching-in-python/\n",
    "<br>\n",
    "<br>\n",
    "\n",
    "- __fuzz_partial_ratio__ :  https://github.com/seatgeek/fuzzywuzzy#usage\n",
    "http://chairnerd.seatgeek.com/fuzzywuzzy-fuzzy-string-matching-in-python/\n",
    "<br>\n",
    "<br>\n",
    "\n",
    "\n",
    "- __token_sort_ratio__ : https://github.com/seatgeek/fuzzywuzzy#usage\n",
    "http://chairnerd.seatgeek.com/fuzzywuzzy-fuzzy-string-matching-in-python/\n",
    "<br>\n",
    "<br>\n",
    "\n",
    "\n",
    "- __token_set_ratio__ : https://github.com/seatgeek/fuzzywuzzy#usage\n",
    "http://chairnerd.seatgeek.com/fuzzywuzzy-fuzzy-string-matching-in-python/\n",
    "<br>"
   ]
  },
  {
   "cell_type": "code",
   "execution_count": 95,
   "id": "12cc5d3e",
   "metadata": {},
   "outputs": [],
   "source": [
    "def ctcmin(row):\n",
    "    sen1 = set(map(lambda x: x.lower().strip(), str(row['question1']).split(\" \")))\n",
    "    sen2 = set(map(lambda x: x.lower().strip(), str(row['question2']).split(\" \")))\n",
    "    return 1.0 * (len(sen1&sen2)/(min(len(sen1),len(sen2))))\n",
    "df['ctc_min'] = df.apply(ctcmin,axis=1)"
   ]
  },
  {
   "cell_type": "code",
   "execution_count": 96,
   "id": "d19f0024",
   "metadata": {},
   "outputs": [],
   "source": [
    "def ctcmax(row):\n",
    "    sen1 = set(map(lambda x: x.lower().strip(), str(row['question1']).split(\" \")))\n",
    "    sen2 = set(map(lambda x: x.lower().strip(), str(row['question2']).split(\" \")))\n",
    "    return 1.0 * (len(sen1&sen2)/(max(len(sen1),len(sen2))))\n",
    "df['ctc_max'] = df.apply(ctcmax,axis=1)"
   ]
  },
  {
   "cell_type": "code",
   "execution_count": 97,
   "id": "5eb88da5",
   "metadata": {},
   "outputs": [],
   "source": [
    "SW = stopwords.words(\"english\")\n",
    "def cscmin(row):\n",
    "    sen1 = set(map(lambda x: x if str(x).lower().strip() in SW else '', str(row['question1']).split(\" \")))\n",
    "    sen2 = set(map(lambda x: x if str(x).lower().strip() in SW else '', str(row['question2']).split(\" \")))\n",
    "    return 1.0 * (len(sen1&sen2)/(min(len(sen1),len(sen2))))\n",
    "df['csc_min'] = df.apply(cscmin,axis=1)"
   ]
  },
  {
   "cell_type": "code",
   "execution_count": 98,
   "id": "112e5545",
   "metadata": {},
   "outputs": [],
   "source": [
    "def cscmax(row):\n",
    "    sen1 = set(map(lambda x: x if str(x).lower().strip() in SW else '', str(row['question1']).split(\" \")))\n",
    "    sen2 = set(map(lambda x: x if str(x).lower().strip() in SW else '', str(row['question2']).split(\" \")))\n",
    "    return 1.0 * (len(sen1&sen2)/(max(len(sen1),len(sen2))))\n",
    "df['csc_max'] = df.apply(cscmax,axis=1)"
   ]
  },
  {
   "cell_type": "code",
   "execution_count": 99,
   "id": "65dc99e1",
   "metadata": {},
   "outputs": [],
   "source": [
    "def cwcmin(row):\n",
    "    sen1 = set(map(lambda x: x if str(x).lower().strip() not in SW else '', str(row['question1']).split(\" \")))\n",
    "    sen2 = set(map(lambda x: x if str(x).lower().strip() not in SW else '', str(row['question2']).split(\" \")))\n",
    "    return 1.0 * (len(sen1&sen2)/(min(len(sen1),len(sen2))))\n",
    "df['cwc_min'] = df.apply(cscmin,axis=1)\n",
    "\n",
    "def cwcmax(row):\n",
    "    sen1 = set(map(lambda x: x if str(x).lower().strip() not in SW else '', str(row['question1']).split(\" \")))\n",
    "    sen2 = set(map(lambda x: x if str(x).lower().strip() not in SW else '', str(row['question2']).split(\" \")))\n",
    "    return 1.0 * (len(sen1&sen2)/(max(len(sen1),len(sen2))))\n",
    "df['cwc_max'] = df.apply(cwcmax,axis=1)"
   ]
  },
  {
   "cell_type": "code",
   "execution_count": 100,
   "id": "b413db35",
   "metadata": {},
   "outputs": [],
   "source": [
    "# feature extractions using FuzzyWuzzy library\n",
    "df[\"token_set_ratio\"] = df.apply(lambda x: fuzz.token_set_ratio(x[\"question1\"], x[\"question2\"]), axis=1)"
   ]
  },
  {
   "cell_type": "code",
   "execution_count": 101,
   "id": "372d3b3b",
   "metadata": {},
   "outputs": [],
   "source": [
    "df[\"token_sort_ratio\"] = df.apply(lambda x: fuzz.token_sort_ratio(x[\"question1\"], x[\"question2\"]), axis=1)"
   ]
  },
  {
   "cell_type": "code",
   "execution_count": 102,
   "id": "9dd1ae37",
   "metadata": {},
   "outputs": [],
   "source": [
    "df[\"fuzz_ratio\"] = df.apply(lambda x: fuzz.QRatio(x[\"question1\"], x[\"question2\"]), axis=1)"
   ]
  },
  {
   "cell_type": "code",
   "execution_count": 103,
   "id": "846d7a55",
   "metadata": {},
   "outputs": [
    {
     "data": {
      "text/plain": [
       "<AxesSubplot:xlabel='token_sort_ratio', ylabel='Density'>"
      ]
     },
     "execution_count": 103,
     "metadata": {},
     "output_type": "execute_result"
    },
    {
     "data": {
      "image/png": "[encoded data removed]",
      "text/plain": [
       "<Figure size 432x288 with 1 Axes>"
      ]
     },
     "metadata": {
      "needs_background": "light"
     },
     "output_type": "display_data"
    }
   ],
   "source": [
    "#univariate analysis for featured derived using fuzzywuzzy library \n",
    "sns.distplot(df[df['is_duplicate']==0]['token_sort_ratio'],label=0,color='orange')\n",
    "sns.distplot(df[df['is_duplicate']==1]['token_sort_ratio'],label=1,color='black')"
   ]
  },
  {
   "cell_type": "code",
   "execution_count": 104,
   "id": "ab2d0a31",
   "metadata": {},
   "outputs": [
    {
     "data": {
      "text/plain": [
       "<AxesSubplot:xlabel='token_set_ratio', ylabel='Density'>"
      ]
     },
     "execution_count": 104,
     "metadata": {},
     "output_type": "execute_result"
    },
    {
     "data": {
      "image/png": "[encoded data removed]",
      "text/plain": [
       "<Figure size 432x288 with 1 Axes>"
      ]
     },
     "metadata": {
      "needs_background": "light"
     },
     "output_type": "display_data"
    }
   ],
   "source": [
    "sns.distplot(df[df['is_duplicate']==0]['token_set_ratio'],label=0,color='orange')\n",
    "sns.distplot(df[df['is_duplicate']==1]['token_set_ratio'],label=1,color='black')"
   ]
  },
  {
   "cell_type": "markdown",
   "id": "b424283d",
   "metadata": {},
   "source": [
    "#### simialarly since these distributions has some distinction, these feature surely add some importance in classifying the target variable."
   ]
  },
  {
   "cell_type": "code",
   "execution_count": 106,
   "id": "19f44b38",
   "metadata": {},
   "outputs": [],
   "source": [
    "#df[\"fuzz_partial_ratio\"] = df.apply(lambda x: fuzz.partial_ratio(x['question1'] if type(x[\"question1\"])==type('') else str(x['question1']),x['question2'] if type(x[\"question2\"])==type('') else str(x['question2'])), axis=1)"
   ]
  },
  {
   "cell_type": "code",
   "execution_count": 107,
   "id": "0bb84b21",
   "metadata": {},
   "outputs": [],
   "source": [
    "df.to_csv(\"nlp_fuzzy_features_train.csv\", index=False)"
   ]
  },
  {
   "cell_type": "code",
   "execution_count": 108,
   "id": "e093813c",
   "metadata": {},
   "outputs": [
    {
     "data": {
      "text/html": [
       "<div>\n",
       "<style scoped>\n",
       "    .dataframe tbody tr th:only-of-type {\n",
       "        vertical-align: middle;\n",
       "    }\n",
       "\n",
       "    .dataframe tbody tr th {\n",
       "        vertical-align: top;\n",
       "    }\n",
       "\n",
       "    .dataframe thead th {\n",
       "        text-align: right;\n",
       "    }\n",
       "</style>\n",
       "<table border=\"1\" class=\"dataframe\">\n",
       "  <thead>\n",
       "    <tr style=\"text-align: right;\">\n",
       "      <th></th>\n",
       "      <th>id</th>\n",
       "      <th>qid1</th>\n",
       "      <th>qid2</th>\n",
       "      <th>question1</th>\n",
       "      <th>question2</th>\n",
       "      <th>is_duplicate</th>\n",
       "      <th>q1len</th>\n",
       "      <th>q2len</th>\n",
       "      <th>q1_n_words</th>\n",
       "      <th>q2_n_words</th>\n",
       "      <th>...</th>\n",
       "      <th>word_share</th>\n",
       "      <th>ctc_min</th>\n",
       "      <th>ctc_max</th>\n",
       "      <th>csc_min</th>\n",
       "      <th>csc_max</th>\n",
       "      <th>cwc_min</th>\n",
       "      <th>cwc_max</th>\n",
       "      <th>token_set_ratio</th>\n",
       "      <th>token_sort_ratio</th>\n",
       "      <th>fuzz_ratio</th>\n",
       "    </tr>\n",
       "  </thead>\n",
       "  <tbody>\n",
       "    <tr>\n",
       "      <th>0</th>\n",
       "      <td>0</td>\n",
       "      <td>1</td>\n",
       "      <td>2</td>\n",
       "      <td>What is the step by step guide to invest in sh...</td>\n",
       "      <td>What is the step by step guide to invest in sh...</td>\n",
       "      <td>0</td>\n",
       "      <td>66</td>\n",
       "      <td>57</td>\n",
       "      <td>14</td>\n",
       "      <td>12</td>\n",
       "      <td>...</td>\n",
       "      <td>0.384615</td>\n",
       "      <td>0.909091</td>\n",
       "      <td>0.833333</td>\n",
       "      <td>1.00</td>\n",
       "      <td>1.0</td>\n",
       "      <td>1.00</td>\n",
       "      <td>0.714286</td>\n",
       "      <td>100</td>\n",
       "      <td>93</td>\n",
       "      <td>93</td>\n",
       "    </tr>\n",
       "    <tr>\n",
       "      <th>1</th>\n",
       "      <td>1</td>\n",
       "      <td>3</td>\n",
       "      <td>4</td>\n",
       "      <td>What is the story of Kohinoor (Koh-i-Noor) Dia...</td>\n",
       "      <td>What would happen if the Indian government sto...</td>\n",
       "      <td>0</td>\n",
       "      <td>51</td>\n",
       "      <td>88</td>\n",
       "      <td>8</td>\n",
       "      <td>13</td>\n",
       "      <td>...</td>\n",
       "      <td>0.190476</td>\n",
       "      <td>0.500000</td>\n",
       "      <td>0.333333</td>\n",
       "      <td>0.75</td>\n",
       "      <td>0.6</td>\n",
       "      <td>0.75</td>\n",
       "      <td>0.300000</td>\n",
       "      <td>86</td>\n",
       "      <td>63</td>\n",
       "      <td>66</td>\n",
       "    </tr>\n",
       "  </tbody>\n",
       "</table>\n",
       "<p>2 rows × 22 columns</p>\n",
       "</div>"
      ],
      "text/plain": [
       "   id  qid1  qid2                                          question1  \\\n",
       "0   0     1     2  What is the step by step guide to invest in sh...   \n",
       "1   1     3     4  What is the story of Kohinoor (Koh-i-Noor) Dia...   \n",
       "\n",
       "                                           question2  is_duplicate  q1len  \\\n",
       "0  What is the step by step guide to invest in sh...             0     66   \n",
       "1  What would happen if the Indian government sto...             0     51   \n",
       "\n",
       "   q2len  q1_n_words  q2_n_words  ...  word_share   ctc_min   ctc_max  \\\n",
       "0     57          14          12  ...    0.384615  0.909091  0.833333   \n",
       "1     88           8          13  ...    0.190476  0.500000  0.333333   \n",
       "\n",
       "   csc_min  csc_max  cwc_min   cwc_max  token_set_ratio  token_sort_ratio  \\\n",
       "0     1.00      1.0     1.00  0.714286              100                93   \n",
       "1     0.75      0.6     0.75  0.300000               86                63   \n",
       "\n",
       "   fuzz_ratio  \n",
       "0          93  \n",
       "1          66  \n",
       "\n",
       "[2 rows x 22 columns]"
      ]
     },
     "execution_count": 108,
     "metadata": {},
     "output_type": "execute_result"
    }
   ],
   "source": [
    "#I am choosing to work with only 1lakh rows, just to run code faster and learn efficiently\n",
    "df = pd.read_csv(\"nlp_fuzzy_features_train.csv\",nrows=100000)\n",
    "df.head(2)"
   ]
  },
  {
   "cell_type": "code",
   "execution_count": 109,
   "id": "81384c7c",
   "metadata": {},
   "outputs": [
    {
     "data": {
      "text/plain": [
       "(100000, 22)"
      ]
     },
     "execution_count": 109,
     "metadata": {},
     "output_type": "execute_result"
    }
   ],
   "source": [
    "df.shape"
   ]
  },
  {
   "cell_type": "markdown",
   "id": "855d8475",
   "metadata": {},
   "source": [
    "# Featurizing text data with tfidf weighted word-vectors"
   ]
  },
  {
   "cell_type": "code",
   "execution_count": 110,
   "id": "61b43560",
   "metadata": {},
   "outputs": [],
   "source": [
    "#!pip install spacy\n",
    "#!python -m spacy download en_core_web_lg\n",
    "#!python -m spacy download en\n",
    "from sklearn.preprocessing import normalize\n",
    "from sklearn.feature_extraction.text import CountVectorizer\n",
    "from sklearn.feature_extraction.text import TfidfVectorizer\n",
    "import sys\n",
    "import os \n",
    "import spacy"
   ]
  },
  {
   "cell_type": "code",
   "execution_count": 111,
   "id": "81a75854",
   "metadata": {},
   "outputs": [],
   "source": [
    "# merge texts\n",
    "df['question1'] = df['question1'].apply(lambda x: str(x))\n",
    "df['question2'] = df['question2'].apply(lambda x: str(x))\n",
    "\n",
    "questions = list(df['question1']) + list(df['question2'])\n",
    "\n",
    "tfidf = TfidfVectorizer()\n",
    "tfidf.fit_transform(questions)\n",
    "\n",
    "# dict key:word and value:tf-idf score\n",
    "word2tfidf = dict(zip(tfidf.get_feature_names(), tfidf.idf_))"
   ]
  },
  {
   "cell_type": "code",
   "execution_count": 112,
   "id": "5526574f",
   "metadata": {},
   "outputs": [],
   "source": [
    "# en_vectors_web_lg, which includes over 1 million unique vectors.\n",
    "nlp = spacy.load('en_core_web_lg')"
   ]
  },
  {
   "cell_type": "code",
   "execution_count": 113,
   "id": "f33c41aa",
   "metadata": {},
   "outputs": [],
   "source": [
    "#to compute tf-idf weighted word2vec\n",
    "vecs1 = []\n",
    "for qu1 in list(df['question1']):\n",
    "    doc1 = nlp(qu1)\n",
    "    mean_vec1 = np.zeros([len(doc1), len(doc1[0].vector)])\n",
    "    for word1 in doc1:\n",
    "        # word2vec\n",
    "        vec1 = word1.vector\n",
    "        # fetch df score\n",
    "        try:\n",
    "            idf = word2tfidf[str(word1)]\n",
    "        except:\n",
    "            idf = 0\n",
    "        # compute final vec\n",
    "        mean_vec1 += vec1 * idf\n",
    "    mean_vec1 = mean_vec1.mean(axis=0)\n",
    "    vecs1.append(mean_vec1)\n",
    "df['q1_feats_m'] = list(vecs1)"
   ]
  },
  {
   "cell_type": "code",
   "execution_count": 114,
   "id": "a663d4b5",
   "metadata": {},
   "outputs": [],
   "source": [
    "#to compute tf-idf weighted word2vec\n",
    "vecs2 = []\n",
    "for qu2 in list(df['question2']):\n",
    "    doc2 = nlp(qu2)\n",
    "    mean_vec2 = np.zeros([len(doc2), len(doc2[0].vector)])\n",
    "    for word2 in doc2:\n",
    "        # word2vec\n",
    "        vec2 = word2.vector\n",
    "        # fetch df score\n",
    "        try:\n",
    "            idf = word2tfidf[str(word2)]\n",
    "        except:\n",
    "            idf = 0\n",
    "        # compute final vec\n",
    "        mean_vec2 += vec2 * idf\n",
    "    mean_vec2 = mean_vec2.mean(axis=0)\n",
    "    vecs2.append(mean_vec2)\n",
    "df['q2_feats_m'] = list(vecs2)"
   ]
  },
  {
   "cell_type": "code",
   "execution_count": 115,
   "id": "f1a128f5",
   "metadata": {},
   "outputs": [
    {
     "data": {
      "text/html": [
       "<div>\n",
       "<style scoped>\n",
       "    .dataframe tbody tr th:only-of-type {\n",
       "        vertical-align: middle;\n",
       "    }\n",
       "\n",
       "    .dataframe tbody tr th {\n",
       "        vertical-align: top;\n",
       "    }\n",
       "\n",
       "    .dataframe thead th {\n",
       "        text-align: right;\n",
       "    }\n",
       "</style>\n",
       "<table border=\"1\" class=\"dataframe\">\n",
       "  <thead>\n",
       "    <tr style=\"text-align: right;\">\n",
       "      <th></th>\n",
       "      <th>id</th>\n",
       "      <th>qid1</th>\n",
       "      <th>qid2</th>\n",
       "      <th>question1</th>\n",
       "      <th>question2</th>\n",
       "      <th>is_duplicate</th>\n",
       "      <th>q1len</th>\n",
       "      <th>q2len</th>\n",
       "      <th>q1_n_words</th>\n",
       "      <th>q2_n_words</th>\n",
       "      <th>...</th>\n",
       "      <th>ctc_max</th>\n",
       "      <th>csc_min</th>\n",
       "      <th>csc_max</th>\n",
       "      <th>cwc_min</th>\n",
       "      <th>cwc_max</th>\n",
       "      <th>token_set_ratio</th>\n",
       "      <th>token_sort_ratio</th>\n",
       "      <th>fuzz_ratio</th>\n",
       "      <th>q1_feats_m</th>\n",
       "      <th>q2_feats_m</th>\n",
       "    </tr>\n",
       "  </thead>\n",
       "  <tbody>\n",
       "    <tr>\n",
       "      <th>0</th>\n",
       "      <td>0</td>\n",
       "      <td>1</td>\n",
       "      <td>2</td>\n",
       "      <td>What is the step by step guide to invest in sh...</td>\n",
       "      <td>What is the step by step guide to invest in sh...</td>\n",
       "      <td>0</td>\n",
       "      <td>66</td>\n",
       "      <td>57</td>\n",
       "      <td>14</td>\n",
       "      <td>12</td>\n",
       "      <td>...</td>\n",
       "      <td>0.833333</td>\n",
       "      <td>1.00</td>\n",
       "      <td>1.0</td>\n",
       "      <td>1.00</td>\n",
       "      <td>0.714286</td>\n",
       "      <td>100</td>\n",
       "      <td>93</td>\n",
       "      <td>93</td>\n",
       "      <td>[-10.490357637405396, 67.71664983034134, -252....</td>\n",
       "      <td>[0.06873679161071777, 74.17337363958359, -240....</td>\n",
       "    </tr>\n",
       "    <tr>\n",
       "      <th>1</th>\n",
       "      <td>1</td>\n",
       "      <td>3</td>\n",
       "      <td>4</td>\n",
       "      <td>What is the story of Kohinoor (Koh-i-Noor) Dia...</td>\n",
       "      <td>What would happen if the Indian government sto...</td>\n",
       "      <td>0</td>\n",
       "      <td>51</td>\n",
       "      <td>88</td>\n",
       "      <td>8</td>\n",
       "      <td>13</td>\n",
       "      <td>...</td>\n",
       "      <td>0.333333</td>\n",
       "      <td>0.75</td>\n",
       "      <td>0.6</td>\n",
       "      <td>0.75</td>\n",
       "      <td>0.300000</td>\n",
       "      <td>86</td>\n",
       "      <td>63</td>\n",
       "      <td>66</td>\n",
       "      <td>[-21.046945333480835, -19.72866916656494, 3.77...</td>\n",
       "      <td>[-87.43667221069336, 45.696125984191895, -100....</td>\n",
       "    </tr>\n",
       "  </tbody>\n",
       "</table>\n",
       "<p>2 rows × 24 columns</p>\n",
       "</div>"
      ],
      "text/plain": [
       "   id  qid1  qid2                                          question1  \\\n",
       "0   0     1     2  What is the step by step guide to invest in sh...   \n",
       "1   1     3     4  What is the story of Kohinoor (Koh-i-Noor) Dia...   \n",
       "\n",
       "                                           question2  is_duplicate  q1len  \\\n",
       "0  What is the step by step guide to invest in sh...             0     66   \n",
       "1  What would happen if the Indian government sto...             0     51   \n",
       "\n",
       "   q2len  q1_n_words  q2_n_words  ...   ctc_max  csc_min  csc_max  cwc_min  \\\n",
       "0     57          14          12  ...  0.833333     1.00      1.0     1.00   \n",
       "1     88           8          13  ...  0.333333     0.75      0.6     0.75   \n",
       "\n",
       "    cwc_max  token_set_ratio  token_sort_ratio  fuzz_ratio  \\\n",
       "0  0.714286              100                93          93   \n",
       "1  0.300000               86                63          66   \n",
       "\n",
       "                                          q1_feats_m  \\\n",
       "0  [-10.490357637405396, 67.71664983034134, -252....   \n",
       "1  [-21.046945333480835, -19.72866916656494, 3.77...   \n",
       "\n",
       "                                          q2_feats_m  \n",
       "0  [0.06873679161071777, 74.17337363958359, -240....  \n",
       "1  [-87.43667221069336, 45.696125984191895, -100....  \n",
       "\n",
       "[2 rows x 24 columns]"
      ]
     },
     "execution_count": 115,
     "metadata": {},
     "output_type": "execute_result"
    }
   ],
   "source": [
    "df.head(2)"
   ]
  },
  {
   "cell_type": "code",
   "execution_count": 116,
   "id": "6ba7eeca",
   "metadata": {},
   "outputs": [
    {
     "data": {
      "text/plain": [
       "(100000, 24)"
      ]
     },
     "execution_count": 116,
     "metadata": {},
     "output_type": "execute_result"
    }
   ],
   "source": [
    "df.shape"
   ]
  },
  {
   "cell_type": "code",
   "execution_count": 117,
   "id": "9180f03c",
   "metadata": {},
   "outputs": [],
   "source": [
    "df = df.drop(['qid1','qid2','question1','question2'],axis=1)"
   ]
  },
  {
   "cell_type": "code",
   "execution_count": 118,
   "id": "10295d08",
   "metadata": {},
   "outputs": [
    {
     "data": {
      "text/plain": [
       "(100000, 20)"
      ]
     },
     "execution_count": 118,
     "metadata": {},
     "output_type": "execute_result"
    }
   ],
   "source": [
    "df.shape"
   ]
  },
  {
   "cell_type": "code",
   "execution_count": 119,
   "id": "e90ab953",
   "metadata": {},
   "outputs": [
    {
     "data": {
      "text/html": [
       "<div>\n",
       "<style scoped>\n",
       "    .dataframe tbody tr th:only-of-type {\n",
       "        vertical-align: middle;\n",
       "    }\n",
       "\n",
       "    .dataframe tbody tr th {\n",
       "        vertical-align: top;\n",
       "    }\n",
       "\n",
       "    .dataframe thead th {\n",
       "        text-align: right;\n",
       "    }\n",
       "</style>\n",
       "<table border=\"1\" class=\"dataframe\">\n",
       "  <thead>\n",
       "    <tr style=\"text-align: right;\">\n",
       "      <th></th>\n",
       "      <th>0</th>\n",
       "      <th>1</th>\n",
       "      <th>2</th>\n",
       "      <th>3</th>\n",
       "      <th>4</th>\n",
       "      <th>5</th>\n",
       "      <th>6</th>\n",
       "      <th>7</th>\n",
       "      <th>8</th>\n",
       "      <th>9</th>\n",
       "      <th>...</th>\n",
       "      <th>290</th>\n",
       "      <th>291</th>\n",
       "      <th>292</th>\n",
       "      <th>293</th>\n",
       "      <th>294</th>\n",
       "      <th>295</th>\n",
       "      <th>296</th>\n",
       "      <th>297</th>\n",
       "      <th>298</th>\n",
       "      <th>299</th>\n",
       "    </tr>\n",
       "  </thead>\n",
       "  <tbody>\n",
       "    <tr>\n",
       "      <th>0</th>\n",
       "      <td>-10.490358</td>\n",
       "      <td>67.716650</td>\n",
       "      <td>-252.534138</td>\n",
       "      <td>-14.235931</td>\n",
       "      <td>161.223124</td>\n",
       "      <td>54.732753</td>\n",
       "      <td>-77.810293</td>\n",
       "      <td>159.519003</td>\n",
       "      <td>-242.635705</td>\n",
       "      <td>-2.605265</td>\n",
       "      <td>...</td>\n",
       "      <td>106.941576</td>\n",
       "      <td>-119.120608</td>\n",
       "      <td>-126.953811</td>\n",
       "      <td>84.698510</td>\n",
       "      <td>3.313622</td>\n",
       "      <td>28.512095</td>\n",
       "      <td>-27.564965</td>\n",
       "      <td>-162.025775</td>\n",
       "      <td>-133.192602</td>\n",
       "      <td>81.441715</td>\n",
       "    </tr>\n",
       "    <tr>\n",
       "      <th>1</th>\n",
       "      <td>-21.046945</td>\n",
       "      <td>-19.728669</td>\n",
       "      <td>3.778634</td>\n",
       "      <td>-49.334991</td>\n",
       "      <td>109.210123</td>\n",
       "      <td>-26.105859</td>\n",
       "      <td>51.461269</td>\n",
       "      <td>118.818088</td>\n",
       "      <td>4.199368</td>\n",
       "      <td>-19.403111</td>\n",
       "      <td>...</td>\n",
       "      <td>49.607121</td>\n",
       "      <td>12.188081</td>\n",
       "      <td>20.762028</td>\n",
       "      <td>20.201912</td>\n",
       "      <td>-20.092356</td>\n",
       "      <td>-15.767780</td>\n",
       "      <td>18.985266</td>\n",
       "      <td>-42.304387</td>\n",
       "      <td>-48.017733</td>\n",
       "      <td>4.490001</td>\n",
       "    </tr>\n",
       "    <tr>\n",
       "      <th>2</th>\n",
       "      <td>-56.948253</td>\n",
       "      <td>41.114509</td>\n",
       "      <td>-142.664478</td>\n",
       "      <td>71.136404</td>\n",
       "      <td>159.914929</td>\n",
       "      <td>-46.356194</td>\n",
       "      <td>39.587470</td>\n",
       "      <td>318.890618</td>\n",
       "      <td>-142.012595</td>\n",
       "      <td>78.135183</td>\n",
       "      <td>...</td>\n",
       "      <td>-30.816046</td>\n",
       "      <td>27.302098</td>\n",
       "      <td>25.596786</td>\n",
       "      <td>-47.278506</td>\n",
       "      <td>-94.666887</td>\n",
       "      <td>74.459630</td>\n",
       "      <td>57.274448</td>\n",
       "      <td>-192.683044</td>\n",
       "      <td>-203.266454</td>\n",
       "      <td>-19.852070</td>\n",
       "    </tr>\n",
       "    <tr>\n",
       "      <th>3</th>\n",
       "      <td>137.587500</td>\n",
       "      <td>76.044296</td>\n",
       "      <td>-73.108486</td>\n",
       "      <td>-161.251347</td>\n",
       "      <td>-82.579269</td>\n",
       "      <td>60.219514</td>\n",
       "      <td>4.645475</td>\n",
       "      <td>181.890980</td>\n",
       "      <td>-122.002410</td>\n",
       "      <td>34.779989</td>\n",
       "      <td>...</td>\n",
       "      <td>116.958943</td>\n",
       "      <td>-126.398069</td>\n",
       "      <td>31.782153</td>\n",
       "      <td>-103.741168</td>\n",
       "      <td>-25.959739</td>\n",
       "      <td>-72.113089</td>\n",
       "      <td>69.932266</td>\n",
       "      <td>67.691687</td>\n",
       "      <td>-174.070326</td>\n",
       "      <td>210.949989</td>\n",
       "    </tr>\n",
       "    <tr>\n",
       "      <th>4</th>\n",
       "      <td>14.930954</td>\n",
       "      <td>-117.498493</td>\n",
       "      <td>-209.319653</td>\n",
       "      <td>41.312727</td>\n",
       "      <td>151.538341</td>\n",
       "      <td>-231.843793</td>\n",
       "      <td>-10.770989</td>\n",
       "      <td>333.096592</td>\n",
       "      <td>163.335007</td>\n",
       "      <td>-76.167248</td>\n",
       "      <td>...</td>\n",
       "      <td>47.964490</td>\n",
       "      <td>-105.505096</td>\n",
       "      <td>267.372394</td>\n",
       "      <td>-84.933539</td>\n",
       "      <td>-252.837682</td>\n",
       "      <td>135.269930</td>\n",
       "      <td>348.701591</td>\n",
       "      <td>13.498664</td>\n",
       "      <td>50.351975</td>\n",
       "      <td>-64.068006</td>\n",
       "    </tr>\n",
       "  </tbody>\n",
       "</table>\n",
       "<p>5 rows × 300 columns</p>\n",
       "</div>"
      ],
      "text/plain": [
       "          0           1           2           3           4           5    \\\n",
       "0  -10.490358   67.716650 -252.534138  -14.235931  161.223124   54.732753   \n",
       "1  -21.046945  -19.728669    3.778634  -49.334991  109.210123  -26.105859   \n",
       "2  -56.948253   41.114509 -142.664478   71.136404  159.914929  -46.356194   \n",
       "3  137.587500   76.044296  -73.108486 -161.251347  -82.579269   60.219514   \n",
       "4   14.930954 -117.498493 -209.319653   41.312727  151.538341 -231.843793   \n",
       "\n",
       "         6           7           8          9    ...         290         291  \\\n",
       "0 -77.810293  159.519003 -242.635705  -2.605265  ...  106.941576 -119.120608   \n",
       "1  51.461269  118.818088    4.199368 -19.403111  ...   49.607121   12.188081   \n",
       "2  39.587470  318.890618 -142.012595  78.135183  ...  -30.816046   27.302098   \n",
       "3   4.645475  181.890980 -122.002410  34.779989  ...  116.958943 -126.398069   \n",
       "4 -10.770989  333.096592  163.335007 -76.167248  ...   47.964490 -105.505096   \n",
       "\n",
       "          292         293         294         295         296         297  \\\n",
       "0 -126.953811   84.698510    3.313622   28.512095  -27.564965 -162.025775   \n",
       "1   20.762028   20.201912  -20.092356  -15.767780   18.985266  -42.304387   \n",
       "2   25.596786  -47.278506  -94.666887   74.459630   57.274448 -192.683044   \n",
       "3   31.782153 -103.741168  -25.959739  -72.113089   69.932266   67.691687   \n",
       "4  267.372394  -84.933539 -252.837682  135.269930  348.701591   13.498664   \n",
       "\n",
       "          298         299  \n",
       "0 -133.192602   81.441715  \n",
       "1  -48.017733    4.490001  \n",
       "2 -203.266454  -19.852070  \n",
       "3 -174.070326  210.949989  \n",
       "4   50.351975  -64.068006  \n",
       "\n",
       "[5 rows x 300 columns]"
      ]
     },
     "execution_count": 119,
     "metadata": {},
     "output_type": "execute_result"
    }
   ],
   "source": [
    "df_q1 = pd.DataFrame(df.q1_feats_m.values.tolist(), index= df.index)\n",
    "df_q1.head()"
   ]
  },
  {
   "cell_type": "code",
   "execution_count": 120,
   "id": "438fa1de",
   "metadata": {},
   "outputs": [
    {
     "data": {
      "text/plain": [
       "(100000, 300)"
      ]
     },
     "execution_count": 120,
     "metadata": {},
     "output_type": "execute_result"
    }
   ],
   "source": [
    "df_q1.shape"
   ]
  },
  {
   "cell_type": "code",
   "execution_count": 121,
   "id": "102c70d2",
   "metadata": {},
   "outputs": [
    {
     "data": {
      "text/html": [
       "<div>\n",
       "<style scoped>\n",
       "    .dataframe tbody tr th:only-of-type {\n",
       "        vertical-align: middle;\n",
       "    }\n",
       "\n",
       "    .dataframe tbody tr th {\n",
       "        vertical-align: top;\n",
       "    }\n",
       "\n",
       "    .dataframe thead th {\n",
       "        text-align: right;\n",
       "    }\n",
       "</style>\n",
       "<table border=\"1\" class=\"dataframe\">\n",
       "  <thead>\n",
       "    <tr style=\"text-align: right;\">\n",
       "      <th></th>\n",
       "      <th>0</th>\n",
       "      <th>1</th>\n",
       "      <th>2</th>\n",
       "      <th>3</th>\n",
       "      <th>4</th>\n",
       "      <th>5</th>\n",
       "      <th>6</th>\n",
       "      <th>7</th>\n",
       "      <th>8</th>\n",
       "      <th>9</th>\n",
       "      <th>...</th>\n",
       "      <th>290</th>\n",
       "      <th>291</th>\n",
       "      <th>292</th>\n",
       "      <th>293</th>\n",
       "      <th>294</th>\n",
       "      <th>295</th>\n",
       "      <th>296</th>\n",
       "      <th>297</th>\n",
       "      <th>298</th>\n",
       "      <th>299</th>\n",
       "    </tr>\n",
       "  </thead>\n",
       "  <tbody>\n",
       "    <tr>\n",
       "      <th>0</th>\n",
       "      <td>0.068737</td>\n",
       "      <td>74.173374</td>\n",
       "      <td>-240.776133</td>\n",
       "      <td>-19.862189</td>\n",
       "      <td>117.439652</td>\n",
       "      <td>65.336051</td>\n",
       "      <td>-82.578378</td>\n",
       "      <td>136.546768</td>\n",
       "      <td>-268.090901</td>\n",
       "      <td>7.628024</td>\n",
       "      <td>...</td>\n",
       "      <td>84.086659</td>\n",
       "      <td>-102.946840</td>\n",
       "      <td>-119.868758</td>\n",
       "      <td>94.617919</td>\n",
       "      <td>25.614550</td>\n",
       "      <td>-3.162477</td>\n",
       "      <td>-23.255782</td>\n",
       "      <td>-130.485935</td>\n",
       "      <td>-122.642702</td>\n",
       "      <td>83.619830</td>\n",
       "    </tr>\n",
       "    <tr>\n",
       "      <th>1</th>\n",
       "      <td>-87.436672</td>\n",
       "      <td>45.696126</td>\n",
       "      <td>-100.979003</td>\n",
       "      <td>-16.830744</td>\n",
       "      <td>82.651195</td>\n",
       "      <td>57.025187</td>\n",
       "      <td>23.570928</td>\n",
       "      <td>171.827352</td>\n",
       "      <td>63.619083</td>\n",
       "      <td>17.874090</td>\n",
       "      <td>...</td>\n",
       "      <td>39.964335</td>\n",
       "      <td>47.398391</td>\n",
       "      <td>68.536555</td>\n",
       "      <td>64.871188</td>\n",
       "      <td>-72.029023</td>\n",
       "      <td>55.944378</td>\n",
       "      <td>-106.100173</td>\n",
       "      <td>67.257869</td>\n",
       "      <td>-83.172969</td>\n",
       "      <td>56.257194</td>\n",
       "    </tr>\n",
       "    <tr>\n",
       "      <th>2</th>\n",
       "      <td>-68.923405</td>\n",
       "      <td>-25.181076</td>\n",
       "      <td>-143.850184</td>\n",
       "      <td>94.621917</td>\n",
       "      <td>48.743341</td>\n",
       "      <td>-36.890199</td>\n",
       "      <td>3.669353</td>\n",
       "      <td>213.575387</td>\n",
       "      <td>-80.767843</td>\n",
       "      <td>-10.921903</td>\n",
       "      <td>...</td>\n",
       "      <td>69.113829</td>\n",
       "      <td>-16.305392</td>\n",
       "      <td>26.457790</td>\n",
       "      <td>51.437134</td>\n",
       "      <td>-63.676421</td>\n",
       "      <td>115.731224</td>\n",
       "      <td>78.842699</td>\n",
       "      <td>-191.133551</td>\n",
       "      <td>-48.844331</td>\n",
       "      <td>146.335136</td>\n",
       "    </tr>\n",
       "    <tr>\n",
       "      <th>3</th>\n",
       "      <td>-177.371868</td>\n",
       "      <td>-38.649545</td>\n",
       "      <td>-71.636115</td>\n",
       "      <td>-14.928945</td>\n",
       "      <td>161.150551</td>\n",
       "      <td>-14.427077</td>\n",
       "      <td>13.613269</td>\n",
       "      <td>97.053000</td>\n",
       "      <td>-4.039911</td>\n",
       "      <td>-63.407115</td>\n",
       "      <td>...</td>\n",
       "      <td>54.338028</td>\n",
       "      <td>-38.409576</td>\n",
       "      <td>-42.333814</td>\n",
       "      <td>35.973171</td>\n",
       "      <td>-68.818702</td>\n",
       "      <td>85.952606</td>\n",
       "      <td>-17.397774</td>\n",
       "      <td>-152.899816</td>\n",
       "      <td>4.734504</td>\n",
       "      <td>64.022601</td>\n",
       "    </tr>\n",
       "    <tr>\n",
       "      <th>4</th>\n",
       "      <td>1.201464</td>\n",
       "      <td>8.112584</td>\n",
       "      <td>-120.100698</td>\n",
       "      <td>24.159073</td>\n",
       "      <td>83.461844</td>\n",
       "      <td>-80.789498</td>\n",
       "      <td>-42.664855</td>\n",
       "      <td>178.750775</td>\n",
       "      <td>-40.341752</td>\n",
       "      <td>54.407175</td>\n",
       "      <td>...</td>\n",
       "      <td>96.951311</td>\n",
       "      <td>-58.741223</td>\n",
       "      <td>93.236875</td>\n",
       "      <td>-69.277219</td>\n",
       "      <td>-140.277700</td>\n",
       "      <td>-70.023601</td>\n",
       "      <td>5.089724</td>\n",
       "      <td>-31.030534</td>\n",
       "      <td>-24.409899</td>\n",
       "      <td>3.358120</td>\n",
       "    </tr>\n",
       "  </tbody>\n",
       "</table>\n",
       "<p>5 rows × 300 columns</p>\n",
       "</div>"
      ],
      "text/plain": [
       "          0          1           2          3           4          5    \\\n",
       "0    0.068737  74.173374 -240.776133 -19.862189  117.439652  65.336051   \n",
       "1  -87.436672  45.696126 -100.979003 -16.830744   82.651195  57.025187   \n",
       "2  -68.923405 -25.181076 -143.850184  94.621917   48.743341 -36.890199   \n",
       "3 -177.371868 -38.649545  -71.636115 -14.928945  161.150551 -14.427077   \n",
       "4    1.201464   8.112584 -120.100698  24.159073   83.461844 -80.789498   \n",
       "\n",
       "         6           7           8          9    ...        290         291  \\\n",
       "0 -82.578378  136.546768 -268.090901   7.628024  ...  84.086659 -102.946840   \n",
       "1  23.570928  171.827352   63.619083  17.874090  ...  39.964335   47.398391   \n",
       "2   3.669353  213.575387  -80.767843 -10.921903  ...  69.113829  -16.305392   \n",
       "3  13.613269   97.053000   -4.039911 -63.407115  ...  54.338028  -38.409576   \n",
       "4 -42.664855  178.750775  -40.341752  54.407175  ...  96.951311  -58.741223   \n",
       "\n",
       "          292        293         294         295         296         297  \\\n",
       "0 -119.868758  94.617919   25.614550   -3.162477  -23.255782 -130.485935   \n",
       "1   68.536555  64.871188  -72.029023   55.944378 -106.100173   67.257869   \n",
       "2   26.457790  51.437134  -63.676421  115.731224   78.842699 -191.133551   \n",
       "3  -42.333814  35.973171  -68.818702   85.952606  -17.397774 -152.899816   \n",
       "4   93.236875 -69.277219 -140.277700  -70.023601    5.089724  -31.030534   \n",
       "\n",
       "          298         299  \n",
       "0 -122.642702   83.619830  \n",
       "1  -83.172969   56.257194  \n",
       "2  -48.844331  146.335136  \n",
       "3    4.734504   64.022601  \n",
       "4  -24.409899    3.358120  \n",
       "\n",
       "[5 rows x 300 columns]"
      ]
     },
     "execution_count": 121,
     "metadata": {},
     "output_type": "execute_result"
    }
   ],
   "source": [
    "df_q2 = pd.DataFrame(df.q2_feats_m.values.tolist(), index= df.index)\n",
    "df_q2.head()"
   ]
  },
  {
   "cell_type": "code",
   "execution_count": 122,
   "id": "9d2250f8",
   "metadata": {},
   "outputs": [
    {
     "data": {
      "text/plain": [
       "(100000, 300)"
      ]
     },
     "execution_count": 122,
     "metadata": {},
     "output_type": "execute_result"
    }
   ],
   "source": [
    "df_q2.shape"
   ]
  },
  {
   "cell_type": "code",
   "execution_count": 123,
   "id": "ca3ab39b",
   "metadata": {},
   "outputs": [
    {
     "data": {
      "text/plain": [
       "(100000, 601)"
      ]
     },
     "execution_count": 123,
     "metadata": {},
     "output_type": "execute_result"
    }
   ],
   "source": [
    "#Finally after merging all the dataframe we will operate with 619 features/dimensions\n",
    "df_q1['id']=df['id']\n",
    "df_q2['id']=df['id']\n",
    "df_inter = df_q1.merge(df_q2, on='id',how='left')\n",
    "df_inter.shape"
   ]
  },
  {
   "cell_type": "code",
   "execution_count": 124,
   "id": "3c9c3d6b",
   "metadata": {},
   "outputs": [
    {
     "data": {
      "text/html": [
       "<div>\n",
       "<style scoped>\n",
       "    .dataframe tbody tr th:only-of-type {\n",
       "        vertical-align: middle;\n",
       "    }\n",
       "\n",
       "    .dataframe tbody tr th {\n",
       "        vertical-align: top;\n",
       "    }\n",
       "\n",
       "    .dataframe thead th {\n",
       "        text-align: right;\n",
       "    }\n",
       "</style>\n",
       "<table border=\"1\" class=\"dataframe\">\n",
       "  <thead>\n",
       "    <tr style=\"text-align: right;\">\n",
       "      <th></th>\n",
       "      <th>0_x</th>\n",
       "      <th>1_x</th>\n",
       "      <th>2_x</th>\n",
       "      <th>3_x</th>\n",
       "      <th>4_x</th>\n",
       "      <th>5_x</th>\n",
       "      <th>6_x</th>\n",
       "      <th>7_x</th>\n",
       "      <th>8_x</th>\n",
       "      <th>9_x</th>\n",
       "      <th>...</th>\n",
       "      <th>290_y</th>\n",
       "      <th>291_y</th>\n",
       "      <th>292_y</th>\n",
       "      <th>293_y</th>\n",
       "      <th>294_y</th>\n",
       "      <th>295_y</th>\n",
       "      <th>296_y</th>\n",
       "      <th>297_y</th>\n",
       "      <th>298_y</th>\n",
       "      <th>299_y</th>\n",
       "    </tr>\n",
       "  </thead>\n",
       "  <tbody>\n",
       "    <tr>\n",
       "      <th>0</th>\n",
       "      <td>-10.490358</td>\n",
       "      <td>67.716650</td>\n",
       "      <td>-252.534138</td>\n",
       "      <td>-14.235931</td>\n",
       "      <td>161.223124</td>\n",
       "      <td>54.732753</td>\n",
       "      <td>-77.810293</td>\n",
       "      <td>159.519003</td>\n",
       "      <td>-242.635705</td>\n",
       "      <td>-2.605265</td>\n",
       "      <td>...</td>\n",
       "      <td>84.086659</td>\n",
       "      <td>-102.946840</td>\n",
       "      <td>-119.868758</td>\n",
       "      <td>94.617919</td>\n",
       "      <td>25.614550</td>\n",
       "      <td>-3.162477</td>\n",
       "      <td>-23.255782</td>\n",
       "      <td>-130.485935</td>\n",
       "      <td>-122.642702</td>\n",
       "      <td>83.619830</td>\n",
       "    </tr>\n",
       "    <tr>\n",
       "      <th>1</th>\n",
       "      <td>-21.046945</td>\n",
       "      <td>-19.728669</td>\n",
       "      <td>3.778634</td>\n",
       "      <td>-49.334991</td>\n",
       "      <td>109.210123</td>\n",
       "      <td>-26.105859</td>\n",
       "      <td>51.461269</td>\n",
       "      <td>118.818088</td>\n",
       "      <td>4.199368</td>\n",
       "      <td>-19.403111</td>\n",
       "      <td>...</td>\n",
       "      <td>39.964335</td>\n",
       "      <td>47.398391</td>\n",
       "      <td>68.536555</td>\n",
       "      <td>64.871188</td>\n",
       "      <td>-72.029023</td>\n",
       "      <td>55.944378</td>\n",
       "      <td>-106.100173</td>\n",
       "      <td>67.257869</td>\n",
       "      <td>-83.172969</td>\n",
       "      <td>56.257194</td>\n",
       "    </tr>\n",
       "    <tr>\n",
       "      <th>2</th>\n",
       "      <td>-56.948253</td>\n",
       "      <td>41.114509</td>\n",
       "      <td>-142.664478</td>\n",
       "      <td>71.136404</td>\n",
       "      <td>159.914929</td>\n",
       "      <td>-46.356194</td>\n",
       "      <td>39.587470</td>\n",
       "      <td>318.890618</td>\n",
       "      <td>-142.012595</td>\n",
       "      <td>78.135183</td>\n",
       "      <td>...</td>\n",
       "      <td>69.113829</td>\n",
       "      <td>-16.305392</td>\n",
       "      <td>26.457790</td>\n",
       "      <td>51.437134</td>\n",
       "      <td>-63.676421</td>\n",
       "      <td>115.731224</td>\n",
       "      <td>78.842699</td>\n",
       "      <td>-191.133551</td>\n",
       "      <td>-48.844331</td>\n",
       "      <td>146.335136</td>\n",
       "    </tr>\n",
       "    <tr>\n",
       "      <th>3</th>\n",
       "      <td>137.587500</td>\n",
       "      <td>76.044296</td>\n",
       "      <td>-73.108486</td>\n",
       "      <td>-161.251347</td>\n",
       "      <td>-82.579269</td>\n",
       "      <td>60.219514</td>\n",
       "      <td>4.645475</td>\n",
       "      <td>181.890980</td>\n",
       "      <td>-122.002410</td>\n",
       "      <td>34.779989</td>\n",
       "      <td>...</td>\n",
       "      <td>54.338028</td>\n",
       "      <td>-38.409576</td>\n",
       "      <td>-42.333814</td>\n",
       "      <td>35.973171</td>\n",
       "      <td>-68.818702</td>\n",
       "      <td>85.952606</td>\n",
       "      <td>-17.397774</td>\n",
       "      <td>-152.899816</td>\n",
       "      <td>4.734504</td>\n",
       "      <td>64.022601</td>\n",
       "    </tr>\n",
       "    <tr>\n",
       "      <th>4</th>\n",
       "      <td>14.930954</td>\n",
       "      <td>-117.498493</td>\n",
       "      <td>-209.319653</td>\n",
       "      <td>41.312727</td>\n",
       "      <td>151.538341</td>\n",
       "      <td>-231.843793</td>\n",
       "      <td>-10.770989</td>\n",
       "      <td>333.096592</td>\n",
       "      <td>163.335007</td>\n",
       "      <td>-76.167248</td>\n",
       "      <td>...</td>\n",
       "      <td>96.951311</td>\n",
       "      <td>-58.741223</td>\n",
       "      <td>93.236875</td>\n",
       "      <td>-69.277219</td>\n",
       "      <td>-140.277700</td>\n",
       "      <td>-70.023601</td>\n",
       "      <td>5.089724</td>\n",
       "      <td>-31.030534</td>\n",
       "      <td>-24.409899</td>\n",
       "      <td>3.358120</td>\n",
       "    </tr>\n",
       "  </tbody>\n",
       "</table>\n",
       "<p>5 rows × 601 columns</p>\n",
       "</div>"
      ],
      "text/plain": [
       "          0_x         1_x         2_x         3_x         4_x         5_x  \\\n",
       "0  -10.490358   67.716650 -252.534138  -14.235931  161.223124   54.732753   \n",
       "1  -21.046945  -19.728669    3.778634  -49.334991  109.210123  -26.105859   \n",
       "2  -56.948253   41.114509 -142.664478   71.136404  159.914929  -46.356194   \n",
       "3  137.587500   76.044296  -73.108486 -161.251347  -82.579269   60.219514   \n",
       "4   14.930954 -117.498493 -209.319653   41.312727  151.538341 -231.843793   \n",
       "\n",
       "         6_x         7_x         8_x        9_x  ...      290_y       291_y  \\\n",
       "0 -77.810293  159.519003 -242.635705  -2.605265  ...  84.086659 -102.946840   \n",
       "1  51.461269  118.818088    4.199368 -19.403111  ...  39.964335   47.398391   \n",
       "2  39.587470  318.890618 -142.012595  78.135183  ...  69.113829  -16.305392   \n",
       "3   4.645475  181.890980 -122.002410  34.779989  ...  54.338028  -38.409576   \n",
       "4 -10.770989  333.096592  163.335007 -76.167248  ...  96.951311  -58.741223   \n",
       "\n",
       "        292_y      293_y       294_y       295_y       296_y       297_y  \\\n",
       "0 -119.868758  94.617919   25.614550   -3.162477  -23.255782 -130.485935   \n",
       "1   68.536555  64.871188  -72.029023   55.944378 -106.100173   67.257869   \n",
       "2   26.457790  51.437134  -63.676421  115.731224   78.842699 -191.133551   \n",
       "3  -42.333814  35.973171  -68.818702   85.952606  -17.397774 -152.899816   \n",
       "4   93.236875 -69.277219 -140.277700  -70.023601    5.089724  -31.030534   \n",
       "\n",
       "        298_y       299_y  \n",
       "0 -122.642702   83.619830  \n",
       "1  -83.172969   56.257194  \n",
       "2  -48.844331  146.335136  \n",
       "3    4.734504   64.022601  \n",
       "4  -24.409899    3.358120  \n",
       "\n",
       "[5 rows x 601 columns]"
      ]
     },
     "execution_count": 124,
     "metadata": {},
     "output_type": "execute_result"
    }
   ],
   "source": [
    "df_inter.head()"
   ]
  },
  {
   "cell_type": "code",
   "execution_count": 128,
   "id": "9e3ad789",
   "metadata": {},
   "outputs": [
    {
     "data": {
      "text/plain": [
       "(100000, 620)"
      ]
     },
     "execution_count": 128,
     "metadata": {},
     "output_type": "execute_result"
    }
   ],
   "source": [
    "df_final = df.merge(df_inter,on='id',how='left')\n",
    "df_final.shape"
   ]
  },
  {
   "cell_type": "code",
   "execution_count": 129,
   "id": "85c5aab0",
   "metadata": {},
   "outputs": [
    {
     "data": {
      "text/html": [
       "<div>\n",
       "<style scoped>\n",
       "    .dataframe tbody tr th:only-of-type {\n",
       "        vertical-align: middle;\n",
       "    }\n",
       "\n",
       "    .dataframe tbody tr th {\n",
       "        vertical-align: top;\n",
       "    }\n",
       "\n",
       "    .dataframe thead th {\n",
       "        text-align: right;\n",
       "    }\n",
       "</style>\n",
       "<table border=\"1\" class=\"dataframe\">\n",
       "  <thead>\n",
       "    <tr style=\"text-align: right;\">\n",
       "      <th></th>\n",
       "      <th>id</th>\n",
       "      <th>is_duplicate</th>\n",
       "      <th>q1len</th>\n",
       "      <th>q2len</th>\n",
       "      <th>q1_n_words</th>\n",
       "      <th>q2_n_words</th>\n",
       "      <th>word_Common</th>\n",
       "      <th>wordtotal</th>\n",
       "      <th>word_share</th>\n",
       "      <th>ctc_min</th>\n",
       "      <th>...</th>\n",
       "      <th>290_y</th>\n",
       "      <th>291_y</th>\n",
       "      <th>292_y</th>\n",
       "      <th>293_y</th>\n",
       "      <th>294_y</th>\n",
       "      <th>295_y</th>\n",
       "      <th>296_y</th>\n",
       "      <th>297_y</th>\n",
       "      <th>298_y</th>\n",
       "      <th>299_y</th>\n",
       "    </tr>\n",
       "  </thead>\n",
       "  <tbody>\n",
       "    <tr>\n",
       "      <th>0</th>\n",
       "      <td>0</td>\n",
       "      <td>0</td>\n",
       "      <td>66</td>\n",
       "      <td>57</td>\n",
       "      <td>14</td>\n",
       "      <td>12</td>\n",
       "      <td>10.0</td>\n",
       "      <td>13.0</td>\n",
       "      <td>0.384615</td>\n",
       "      <td>0.909091</td>\n",
       "      <td>...</td>\n",
       "      <td>84.086659</td>\n",
       "      <td>-102.946840</td>\n",
       "      <td>-119.868758</td>\n",
       "      <td>94.617919</td>\n",
       "      <td>25.614550</td>\n",
       "      <td>-3.162477</td>\n",
       "      <td>-23.255782</td>\n",
       "      <td>-130.485935</td>\n",
       "      <td>-122.642702</td>\n",
       "      <td>83.619830</td>\n",
       "    </tr>\n",
       "    <tr>\n",
       "      <th>1</th>\n",
       "      <td>1</td>\n",
       "      <td>0</td>\n",
       "      <td>51</td>\n",
       "      <td>88</td>\n",
       "      <td>8</td>\n",
       "      <td>13</td>\n",
       "      <td>4.0</td>\n",
       "      <td>16.0</td>\n",
       "      <td>0.190476</td>\n",
       "      <td>0.500000</td>\n",
       "      <td>...</td>\n",
       "      <td>39.964335</td>\n",
       "      <td>47.398391</td>\n",
       "      <td>68.536555</td>\n",
       "      <td>64.871188</td>\n",
       "      <td>-72.029023</td>\n",
       "      <td>55.944378</td>\n",
       "      <td>-106.100173</td>\n",
       "      <td>67.257869</td>\n",
       "      <td>-83.172969</td>\n",
       "      <td>56.257194</td>\n",
       "    </tr>\n",
       "    <tr>\n",
       "      <th>2</th>\n",
       "      <td>2</td>\n",
       "      <td>0</td>\n",
       "      <td>73</td>\n",
       "      <td>59</td>\n",
       "      <td>14</td>\n",
       "      <td>10</td>\n",
       "      <td>4.0</td>\n",
       "      <td>20.0</td>\n",
       "      <td>0.166667</td>\n",
       "      <td>0.400000</td>\n",
       "      <td>...</td>\n",
       "      <td>69.113829</td>\n",
       "      <td>-16.305392</td>\n",
       "      <td>26.457790</td>\n",
       "      <td>51.437134</td>\n",
       "      <td>-63.676421</td>\n",
       "      <td>115.731224</td>\n",
       "      <td>78.842699</td>\n",
       "      <td>-191.133551</td>\n",
       "      <td>-48.844331</td>\n",
       "      <td>146.335136</td>\n",
       "    </tr>\n",
       "    <tr>\n",
       "      <th>3</th>\n",
       "      <td>3</td>\n",
       "      <td>0</td>\n",
       "      <td>50</td>\n",
       "      <td>65</td>\n",
       "      <td>11</td>\n",
       "      <td>9</td>\n",
       "      <td>0.0</td>\n",
       "      <td>19.0</td>\n",
       "      <td>0.000000</td>\n",
       "      <td>0.000000</td>\n",
       "      <td>...</td>\n",
       "      <td>54.338028</td>\n",
       "      <td>-38.409576</td>\n",
       "      <td>-42.333814</td>\n",
       "      <td>35.973171</td>\n",
       "      <td>-68.818702</td>\n",
       "      <td>85.952606</td>\n",
       "      <td>-17.397774</td>\n",
       "      <td>-152.899816</td>\n",
       "      <td>4.734504</td>\n",
       "      <td>64.022601</td>\n",
       "    </tr>\n",
       "    <tr>\n",
       "      <th>4</th>\n",
       "      <td>4</td>\n",
       "      <td>0</td>\n",
       "      <td>76</td>\n",
       "      <td>39</td>\n",
       "      <td>13</td>\n",
       "      <td>7</td>\n",
       "      <td>2.0</td>\n",
       "      <td>18.0</td>\n",
       "      <td>0.100000</td>\n",
       "      <td>0.285714</td>\n",
       "      <td>...</td>\n",
       "      <td>96.951311</td>\n",
       "      <td>-58.741223</td>\n",
       "      <td>93.236875</td>\n",
       "      <td>-69.277219</td>\n",
       "      <td>-140.277700</td>\n",
       "      <td>-70.023601</td>\n",
       "      <td>5.089724</td>\n",
       "      <td>-31.030534</td>\n",
       "      <td>-24.409899</td>\n",
       "      <td>3.358120</td>\n",
       "    </tr>\n",
       "  </tbody>\n",
       "</table>\n",
       "<p>5 rows × 620 columns</p>\n",
       "</div>"
      ],
      "text/plain": [
       "   id  is_duplicate  q1len  q2len  q1_n_words  q2_n_words  word_Common  \\\n",
       "0   0             0     66     57          14          12         10.0   \n",
       "1   1             0     51     88           8          13          4.0   \n",
       "2   2             0     73     59          14          10          4.0   \n",
       "3   3             0     50     65          11           9          0.0   \n",
       "4   4             0     76     39          13           7          2.0   \n",
       "\n",
       "   wordtotal   word_share   ctc_min  ...      290_y       291_y       292_y  \\\n",
       "0        13.0    0.384615  0.909091  ...  84.086659 -102.946840 -119.868758   \n",
       "1        16.0    0.190476  0.500000  ...  39.964335   47.398391   68.536555   \n",
       "2        20.0    0.166667  0.400000  ...  69.113829  -16.305392   26.457790   \n",
       "3        19.0    0.000000  0.000000  ...  54.338028  -38.409576  -42.333814   \n",
       "4        18.0    0.100000  0.285714  ...  96.951311  -58.741223   93.236875   \n",
       "\n",
       "       293_y       294_y       295_y       296_y       297_y       298_y  \\\n",
       "0  94.617919   25.614550   -3.162477  -23.255782 -130.485935 -122.642702   \n",
       "1  64.871188  -72.029023   55.944378 -106.100173   67.257869  -83.172969   \n",
       "2  51.437134  -63.676421  115.731224   78.842699 -191.133551  -48.844331   \n",
       "3  35.973171  -68.818702   85.952606  -17.397774 -152.899816    4.734504   \n",
       "4 -69.277219 -140.277700  -70.023601    5.089724  -31.030534  -24.409899   \n",
       "\n",
       "        299_y  \n",
       "0   83.619830  \n",
       "1   56.257194  \n",
       "2  146.335136  \n",
       "3   64.022601  \n",
       "4    3.358120  \n",
       "\n",
       "[5 rows x 620 columns]"
      ]
     },
     "execution_count": 129,
     "metadata": {},
     "output_type": "execute_result"
    }
   ],
   "source": [
    "df_final.head()"
   ]
  },
  {
   "cell_type": "code",
   "execution_count": 131,
   "id": "aa2457bc",
   "metadata": {},
   "outputs": [],
   "source": [
    "#df_final.to_csv(\"final_features_quora_train.csv\", index=False)"
   ]
  },
  {
   "cell_type": "code",
   "execution_count": 140,
   "id": "cfe926a7",
   "metadata": {},
   "outputs": [
    {
     "data": {
      "text/html": [
       "<div>\n",
       "<style scoped>\n",
       "    .dataframe tbody tr th:only-of-type {\n",
       "        vertical-align: middle;\n",
       "    }\n",
       "\n",
       "    .dataframe tbody tr th {\n",
       "        vertical-align: top;\n",
       "    }\n",
       "\n",
       "    .dataframe thead th {\n",
       "        text-align: right;\n",
       "    }\n",
       "</style>\n",
       "<table border=\"1\" class=\"dataframe\">\n",
       "  <thead>\n",
       "    <tr style=\"text-align: right;\">\n",
       "      <th></th>\n",
       "      <th>id</th>\n",
       "      <th>is_duplicate</th>\n",
       "      <th>q1len</th>\n",
       "      <th>q2len</th>\n",
       "      <th>q1_n_words</th>\n",
       "      <th>q2_n_words</th>\n",
       "      <th>word_Common</th>\n",
       "      <th>wordtotal</th>\n",
       "      <th>word_share</th>\n",
       "      <th>ctc_min</th>\n",
       "      <th>...</th>\n",
       "      <th>290_y</th>\n",
       "      <th>291_y</th>\n",
       "      <th>292_y</th>\n",
       "      <th>293_y</th>\n",
       "      <th>294_y</th>\n",
       "      <th>295_y</th>\n",
       "      <th>296_y</th>\n",
       "      <th>297_y</th>\n",
       "      <th>298_y</th>\n",
       "      <th>299_y</th>\n",
       "    </tr>\n",
       "  </thead>\n",
       "  <tbody>\n",
       "    <tr>\n",
       "      <th>0</th>\n",
       "      <td>0</td>\n",
       "      <td>0</td>\n",
       "      <td>66</td>\n",
       "      <td>57</td>\n",
       "      <td>14</td>\n",
       "      <td>12</td>\n",
       "      <td>10.0</td>\n",
       "      <td>13.0</td>\n",
       "      <td>0.384615</td>\n",
       "      <td>0.909091</td>\n",
       "      <td>...</td>\n",
       "      <td>84.086659</td>\n",
       "      <td>-102.946840</td>\n",
       "      <td>-119.868758</td>\n",
       "      <td>94.617919</td>\n",
       "      <td>25.614550</td>\n",
       "      <td>-3.162477</td>\n",
       "      <td>-23.255782</td>\n",
       "      <td>-130.485935</td>\n",
       "      <td>-122.642702</td>\n",
       "      <td>83.619830</td>\n",
       "    </tr>\n",
       "    <tr>\n",
       "      <th>1</th>\n",
       "      <td>1</td>\n",
       "      <td>0</td>\n",
       "      <td>51</td>\n",
       "      <td>88</td>\n",
       "      <td>8</td>\n",
       "      <td>13</td>\n",
       "      <td>4.0</td>\n",
       "      <td>16.0</td>\n",
       "      <td>0.190476</td>\n",
       "      <td>0.500000</td>\n",
       "      <td>...</td>\n",
       "      <td>39.964335</td>\n",
       "      <td>47.398391</td>\n",
       "      <td>68.536555</td>\n",
       "      <td>64.871188</td>\n",
       "      <td>-72.029023</td>\n",
       "      <td>55.944378</td>\n",
       "      <td>-106.100173</td>\n",
       "      <td>67.257869</td>\n",
       "      <td>-83.172969</td>\n",
       "      <td>56.257194</td>\n",
       "    </tr>\n",
       "    <tr>\n",
       "      <th>2</th>\n",
       "      <td>2</td>\n",
       "      <td>0</td>\n",
       "      <td>73</td>\n",
       "      <td>59</td>\n",
       "      <td>14</td>\n",
       "      <td>10</td>\n",
       "      <td>4.0</td>\n",
       "      <td>20.0</td>\n",
       "      <td>0.166667</td>\n",
       "      <td>0.400000</td>\n",
       "      <td>...</td>\n",
       "      <td>69.113829</td>\n",
       "      <td>-16.305392</td>\n",
       "      <td>26.457790</td>\n",
       "      <td>51.437134</td>\n",
       "      <td>-63.676421</td>\n",
       "      <td>115.731224</td>\n",
       "      <td>78.842699</td>\n",
       "      <td>-191.133551</td>\n",
       "      <td>-48.844331</td>\n",
       "      <td>146.335136</td>\n",
       "    </tr>\n",
       "    <tr>\n",
       "      <th>3</th>\n",
       "      <td>3</td>\n",
       "      <td>0</td>\n",
       "      <td>50</td>\n",
       "      <td>65</td>\n",
       "      <td>11</td>\n",
       "      <td>9</td>\n",
       "      <td>0.0</td>\n",
       "      <td>19.0</td>\n",
       "      <td>0.000000</td>\n",
       "      <td>0.000000</td>\n",
       "      <td>...</td>\n",
       "      <td>54.338028</td>\n",
       "      <td>-38.409576</td>\n",
       "      <td>-42.333814</td>\n",
       "      <td>35.973171</td>\n",
       "      <td>-68.818702</td>\n",
       "      <td>85.952606</td>\n",
       "      <td>-17.397774</td>\n",
       "      <td>-152.899816</td>\n",
       "      <td>4.734504</td>\n",
       "      <td>64.022601</td>\n",
       "    </tr>\n",
       "    <tr>\n",
       "      <th>4</th>\n",
       "      <td>4</td>\n",
       "      <td>0</td>\n",
       "      <td>76</td>\n",
       "      <td>39</td>\n",
       "      <td>13</td>\n",
       "      <td>7</td>\n",
       "      <td>2.0</td>\n",
       "      <td>18.0</td>\n",
       "      <td>0.100000</td>\n",
       "      <td>0.285714</td>\n",
       "      <td>...</td>\n",
       "      <td>96.951311</td>\n",
       "      <td>-58.741223</td>\n",
       "      <td>93.236875</td>\n",
       "      <td>-69.277219</td>\n",
       "      <td>-140.277700</td>\n",
       "      <td>-70.023601</td>\n",
       "      <td>5.089724</td>\n",
       "      <td>-31.030534</td>\n",
       "      <td>-24.409899</td>\n",
       "      <td>3.358120</td>\n",
       "    </tr>\n",
       "  </tbody>\n",
       "</table>\n",
       "<p>5 rows × 620 columns</p>\n",
       "</div>"
      ],
      "text/plain": [
       "   id  is_duplicate  q1len  q2len  q1_n_words  q2_n_words  word_Common  \\\n",
       "0   0             0     66     57          14          12         10.0   \n",
       "1   1             0     51     88           8          13          4.0   \n",
       "2   2             0     73     59          14          10          4.0   \n",
       "3   3             0     50     65          11           9          0.0   \n",
       "4   4             0     76     39          13           7          2.0   \n",
       "\n",
       "   wordtotal   word_share   ctc_min  ...      290_y       291_y       292_y  \\\n",
       "0        13.0    0.384615  0.909091  ...  84.086659 -102.946840 -119.868758   \n",
       "1        16.0    0.190476  0.500000  ...  39.964335   47.398391   68.536555   \n",
       "2        20.0    0.166667  0.400000  ...  69.113829  -16.305392   26.457790   \n",
       "3        19.0    0.000000  0.000000  ...  54.338028  -38.409576  -42.333814   \n",
       "4        18.0    0.100000  0.285714  ...  96.951311  -58.741223   93.236875   \n",
       "\n",
       "       293_y       294_y       295_y       296_y       297_y       298_y  \\\n",
       "0  94.617919   25.614550   -3.162477  -23.255782 -130.485935 -122.642702   \n",
       "1  64.871188  -72.029023   55.944378 -106.100173   67.257869  -83.172969   \n",
       "2  51.437134  -63.676421  115.731224   78.842699 -191.133551  -48.844331   \n",
       "3  35.973171  -68.818702   85.952606  -17.397774 -152.899816    4.734504   \n",
       "4 -69.277219 -140.277700  -70.023601    5.089724  -31.030534  -24.409899   \n",
       "\n",
       "        299_y  \n",
       "0   83.619830  \n",
       "1   56.257194  \n",
       "2  146.335136  \n",
       "3   64.022601  \n",
       "4    3.358120  \n",
       "\n",
       "[5 rows x 620 columns]"
      ]
     },
     "execution_count": 140,
     "metadata": {},
     "output_type": "execute_result"
    }
   ],
   "source": [
    "df = pd.read_csv(\"final_features_quora_train.csv\")\n",
    "df.head()"
   ]
  },
  {
   "cell_type": "code",
   "execution_count": 141,
   "id": "d0f5d583",
   "metadata": {},
   "outputs": [
    {
     "data": {
      "text/plain": [
       "(100000, 620)"
      ]
     },
     "execution_count": 141,
     "metadata": {},
     "output_type": "execute_result"
    }
   ],
   "source": [
    "df.shape"
   ]
  },
  {
   "cell_type": "code",
   "execution_count": 145,
   "id": "3b26700f",
   "metadata": {},
   "outputs": [
    {
     "data": {
      "text/plain": [
       "0"
      ]
     },
     "execution_count": 145,
     "metadata": {},
     "output_type": "execute_result"
    }
   ],
   "source": [
    "df.isnull().sum().sum()"
   ]
  },
  {
   "cell_type": "code",
   "execution_count": 146,
   "id": "87110288",
   "metadata": {},
   "outputs": [],
   "source": [
    "df.drop('id',axis=1,inplace=True)"
   ]
  },
  {
   "cell_type": "markdown",
   "id": "57bdd7ae",
   "metadata": {},
   "source": [
    "# Building model on these derived features"
   ]
  },
  {
   "cell_type": "code",
   "execution_count": 218,
   "id": "0cef9cd6",
   "metadata": {},
   "outputs": [],
   "source": [
    "from sklearn.model_selection import train_test_split\n",
    "from sklearn.linear_model import LogisticRegression\n",
    "from sklearn.ensemble import RandomForestClassifier\n",
    "\n",
    "from sklearn.calibration import CalibratedClassifierCV\n",
    "\n",
    "from sklearn import metrics\n",
    "from sklearn.metrics import log_loss\n",
    "from sklearn.metrics import confusion_matrix"
   ]
  },
  {
   "cell_type": "code",
   "execution_count": 226,
   "id": "95dc417e",
   "metadata": {},
   "outputs": [],
   "source": [
    "df.drop('q2_feats_m',axis=1,inplace=True)\n",
    "df.drop('q1_feats_m',axis=1,inplace=True)\n",
    "\n",
    "x = df.drop('is_duplicate',axis=1)\n",
    "y = df['is_duplicate']"
   ]
  },
  {
   "cell_type": "code",
   "execution_count": 227,
   "id": "ebc90f0c",
   "metadata": {},
   "outputs": [],
   "source": [
    "x_train, x_test, y_train, y_test = train_test_split(x,y,test_size=0.2,random_state=42)"
   ]
  },
  {
   "cell_type": "code",
   "execution_count": 228,
   "id": "63645f3f",
   "metadata": {},
   "outputs": [
    {
     "name": "stdout",
     "output_type": "stream",
     "text": [
      "distribution of target variable in train and test dataset\n",
      "********** Train dataset **********\n",
      "0's percentage:  0.628625\n",
      "1's percentage:  0.371375\n",
      "********** Test dataset **********\n",
      "0's percentage:  0.6228\n",
      "1's percentage:  0.3772\n"
     ]
    }
   ],
   "source": [
    "print(\"distribution of target variable in train and test dataset\")\n",
    "print(\"*\"*10,\"Train dataset\",\"*\"*10)\n",
    "print(\"0's percentage: \",str((y_train.value_counts()[0])/80000))\n",
    "print(\"1's percentage: \",str((y_train.value_counts()[1])/80000))\n",
    "print(\"*\"*10,\"Test dataset\",\"*\"*10)\n",
    "print(\"0's percentage: \",str((y_test.value_counts()[0])/20000))\n",
    "print(\"1's percentage: \",str((y_test.value_counts()[1])/20000))"
   ]
  },
  {
   "cell_type": "code",
   "execution_count": 229,
   "id": "246f2467",
   "metadata": {},
   "outputs": [],
   "source": [
    "# again splitting the train dataset for cross validation\n",
    "x_train, x_cv, y_train, y_cv = train_test_split(x_train,y_train,test_size=0.2,random_state=42)"
   ]
  },
  {
   "cell_type": "markdown",
   "id": "07e5b4f3",
   "metadata": {},
   "source": [
    "## Building a RANDOM MODEL"
   ]
  },
  {
   "cell_type": "code",
   "execution_count": 230,
   "id": "88d13fe1",
   "metadata": {},
   "outputs": [
    {
     "name": "stdout",
     "output_type": "stream",
     "text": [
      "Log loss on Test Data using Random Model :  0.8855522540118133\n"
     ]
    }
   ],
   "source": [
    "# Building a random model, so as to compare with complex models we build as we are using the log loss as a parameter\n",
    "# and it can vary between 0 to infinity.\n",
    "test_len = len(y_test)\n",
    "predicted_y = np.zeros((test_len,2))\n",
    "pred_y = np.zeros(test_len)\n",
    "for i in range(test_len):\n",
    "    rand_probs = np.random.rand(1,2)\n",
    "    predicted_y[i] = ((rand_probs/sum(sum(rand_probs)))[0])\n",
    "    pred_y[i] = np.argmax(predicted_y[i])\n",
    "print(\"Log loss on Test Data using Random Model : \",log_loss(y_test, predicted_y))"
   ]
  },
  {
   "cell_type": "code",
   "execution_count": 231,
   "id": "3f7a8135",
   "metadata": {
    "scrolled": true
   },
   "outputs": [
    {
     "data": {
      "image/png": "[encoded data removed]",
      "text/plain": [
       "<Figure size 432x288 with 2 Axes>"
      ]
     },
     "metadata": {
      "needs_background": "light"
     },
     "output_type": "display_data"
    }
   ],
   "source": [
    "confusion_matrix = metrics.confusion_matrix(y_test, pred_y)\n",
    "\n",
    "cm_display = metrics.ConfusionMatrixDisplay(confusion_matrix = confusion_matrix, display_labels = [False, True])\n",
    "\n",
    "cm_display.plot()\n",
    "plt.show()"
   ]
  },
  {
   "cell_type": "markdown",
   "id": "7910ed2a",
   "metadata": {},
   "source": [
    "### Since we are dealing with a bit large dimensional data linear models tend to work well.\n",
    "#### So i am trying with logistic regression, SVM, RandomForestClassifier."
   ]
  },
  {
   "cell_type": "code",
   "execution_count": 248,
   "id": "d7e8040e",
   "metadata": {},
   "outputs": [
    {
     "name": "stdout",
     "output_type": "stream",
     "text": [
      "For values of alpha =  1e-05 The log loss is: 0.5430081024914497\n",
      "For values of alpha =  0.0001 The log loss is: 0.5435362943988513\n",
      "For values of alpha =  0.001 The log loss is: 0.543336080400045\n",
      "For values of alpha =  0.01 The log loss is: 0.5430284699025463\n",
      "For values of alpha =  0.1 The log loss is: 0.5428679100608654\n",
      "For values of alpha =  1 The log loss is: 0.5431287417385843\n",
      "For values of alpha =  10 The log loss is: 0.5430985902734065\n",
      "For values of alpha =  100 The log loss is: 0.542518201238848\n",
      "For values of alpha =  1000 The log loss is: 0.5426095964318098\n",
      "For values of alpha =  10000 The log loss is: 0.5424016735787622\n"
     ]
    }
   ],
   "source": [
    "opt_c = [10**x for x in range(-5,5)]\n",
    "logloss = []\n",
    "\n",
    "for x in opt_c:\n",
    "    lr = LogisticRegression(C = x)\n",
    "    lr.fit(x_train, y_train)\n",
    "    sig_clf = CalibratedClassifierCV(lr, method=\"sigmoid\")\n",
    "    sig_clf.fit(x_train, y_train)\n",
    "    predict_y = sig_clf.predict_proba(x_cv)\n",
    "    logloss.append(log_loss(y_cv, predict_y, eps=1e-15))\n",
    "    print('For values of alpha = ', x, \"The log loss is:\",log_loss(y_cv, predict_y, labels=lr.classes_, eps=1e-15))"
   ]
  },
  {
   "cell_type": "code",
   "execution_count": 250,
   "id": "216429ec",
   "metadata": {},
   "outputs": [
    {
     "data": {
      "image/png": "[encoded data removed]",
      "text/plain": [
       "<Figure size 432x288 with 1 Axes>"
      ]
     },
     "metadata": {
      "needs_background": "light"
     },
     "output_type": "display_data"
    },
    {
     "name": "stdout",
     "output_type": "stream",
     "text": [
      "LOG-LOSS IS LEAST AT : 10000\n"
     ]
    }
   ],
   "source": [
    "plt.plot(opt_c, logloss,c='g')\n",
    "plt.show()\n",
    "print(\"LOG-LOSS IS LEAST AT :\",opt_c[logloss.index(min(logloss))])"
   ]
  },
  {
   "cell_type": "code",
   "execution_count": 251,
   "id": "a244aa21",
   "metadata": {},
   "outputs": [
    {
     "name": "stdout",
     "output_type": "stream",
     "text": [
      "**************** Training the model at optimal value of C ****************\n",
      "Log loss on test data after training on optimal c/lambda value :  0.5433613329798249\n"
     ]
    }
   ],
   "source": [
    "print(\"**************** Training the model at optimal value of C ****************\")\n",
    "lr = LogisticRegression(C = 10000)\n",
    "lr.fit(x_train, y_train)\n",
    "sig_clf = CalibratedClassifierCV(lr, method=\"sigmoid\")\n",
    "sig_clf.fit(x_train, y_train)\n",
    "predict_y = sig_clf.predict_proba(x_test)\n",
    "print(\"Log loss on test data after training on optimal c/lambda value : \",log_loss(y_test, predict_y, eps=1e-15))"
   ]
  },
  {
   "cell_type": "code",
   "execution_count": 252,
   "id": "c4ccfbd0",
   "metadata": {},
   "outputs": [
    {
     "data": {
      "text/plain": [
       "array([[0.35445822, 0.64554178],\n",
       "       [0.68800917, 0.31199083],\n",
       "       [0.4206551 , 0.5793449 ],\n",
       "       ...,\n",
       "       [0.69979586, 0.30020414],\n",
       "       [0.25960076, 0.74039924],\n",
       "       [0.92059556, 0.07940444]])"
      ]
     },
     "execution_count": 252,
     "metadata": {},
     "output_type": "execute_result"
    }
   ],
   "source": [
    "predict_y"
   ]
  },
  {
   "cell_type": "code",
   "execution_count": 253,
   "id": "55bfce8d",
   "metadata": {},
   "outputs": [
    {
     "data": {
      "image/png": "[encoded data removed]",
      "text/plain": [
       "<Figure size 432x288 with 2 Axes>"
      ]
     },
     "metadata": {
      "needs_background": "light"
     },
     "output_type": "display_data"
    }
   ],
   "source": [
    "pred_y = np.zeros(test_len)\n",
    "for i in range(test_len):\n",
    "    pred_y[i] = np.argmax(predict_y[i])\n",
    "confusion_matrix = metrics.confusion_matrix(y_test, pred_y)\n",
    "\n",
    "cm_display = metrics.ConfusionMatrixDisplay(confusion_matrix = confusion_matrix, display_labels = [False, True])\n",
    "\n",
    "cm_display.plot()\n",
    "plt.show()"
   ]
  },
  {
   "cell_type": "code",
   "execution_count": 259,
   "id": "a49fc66c",
   "metadata": {},
   "outputs": [
    {
     "name": "stdout",
     "output_type": "stream",
     "text": [
      "For values of alpha =  100 The log loss is: 0.4154251468908977\n",
      "For values of alpha =  200 The log loss is: 0.4126033921987109\n",
      "For values of alpha =  400 The log loss is: 0.41186146312573896\n",
      "For values of alpha =  600 The log loss is: 0.4112648737552015\n"
     ]
    }
   ],
   "source": [
    "# Training Random Forest model\n",
    "n_est = [100, 200, 400, 600]\n",
    "logloss = []\n",
    "\n",
    "for x in n_est:\n",
    "    rfc = RandomForestClassifier(n_estimators = x, random_state=0,n_jobs = -1)\n",
    "    rfc.fit(x_train, y_train)\n",
    "    sig_clf = CalibratedClassifierCV(rfc, method=\"sigmoid\",n_jobs = -1)\n",
    "    sig_clf.fit(x_train, y_train)\n",
    "    predict_y = sig_clf.predict_proba(x_cv)\n",
    "    logloss.append(log_loss(y_cv, predict_y, eps=1e-15))\n",
    "    print('For values of alpha = ', x, \"The log loss is:\",log_loss(y_cv, predict_y, labels=rfc.classes_, eps=1e-15))"
   ]
  },
  {
   "cell_type": "code",
   "execution_count": 260,
   "id": "c9e78efd",
   "metadata": {},
   "outputs": [
    {
     "data": {
      "image/png": "[encoded data removed]",
      "text/plain": [
       "<Figure size 432x288 with 1 Axes>"
      ]
     },
     "metadata": {
      "needs_background": "light"
     },
     "output_type": "display_data"
    },
    {
     "name": "stdout",
     "output_type": "stream",
     "text": [
      "LOG-LOSS IS LEAST AT estimator number : 600\n"
     ]
    }
   ],
   "source": [
    "plt.plot(n_est, logloss,c='g')\n",
    "plt.show()\n",
    "print(\"LOG-LOSS IS LEAST AT estimator number :\",n_est[logloss.index(min(logloss))])"
   ]
  },
  {
   "cell_type": "code",
   "execution_count": 261,
   "id": "590df134",
   "metadata": {},
   "outputs": [
    {
     "name": "stdout",
     "output_type": "stream",
     "text": [
      "**************** Training the model at optimal value of n_estimators ****************\n",
      "Log loss on test data after training on optimal c/lambda value :  0.4183606801787103\n"
     ]
    }
   ],
   "source": [
    "print(\"**************** Training the model at optimal value of n_estimators ****************\")\n",
    "sig_clf = CalibratedClassifierCV(rfc, method=\"sigmoid\")\n",
    "sig_clf.fit(x_train, y_train)\n",
    "predict_y = sig_clf.predict_proba(x_test)\n",
    "print(\"Log loss on test data after training on optimal c/lambda value : \",log_loss(y_test, predict_y, eps=1e-15))"
   ]
  },
  {
   "cell_type": "code",
   "execution_count": 262,
   "id": "4c924ae1",
   "metadata": {},
   "outputs": [
    {
     "data": {
      "image/png": "[encoded data removed]",
      "text/plain": [
       "<Figure size 432x288 with 2 Axes>"
      ]
     },
     "metadata": {
      "needs_background": "light"
     },
     "output_type": "display_data"
    }
   ],
   "source": [
    "pred_y = np.zeros(test_len)\n",
    "for i in range(test_len):\n",
    "    pred_y[i] = np.argmax(predict_y[i])\n",
    "confusion_matrix = metrics.confusion_matrix(y_test, pred_y)\n",
    "\n",
    "cm_display = metrics.ConfusionMatrixDisplay(confusion_matrix = confusion_matrix, display_labels = [False, True])\n",
    "\n",
    "cm_display.plot()\n",
    "plt.show()"
   ]
  },
  {
   "cell_type": "markdown",
   "id": "81cc64b6",
   "metadata": {},
   "source": [
    "#### We can conclude this is better compared to both random model and logistic regression model in terms of both log-loss and confusion matrix as number of correctly classified points are increased and probability score also have increased."
   ]
  }
 ],
 "metadata": {
  "kernelspec": {
   "display_name": "Python 3 (ipykernel)",
   "language": "python",
   "name": "python3"
  },
  "language_info": {
   "codemirror_mode": {
    "name": "ipython",
    "version": 3
   },
   "file_extension": ".py",
   "mimetype": "text/x-python",
   "name": "python",
   "nbconvert_exporter": "python",
   "pygments_lexer": "ipython3",
   "version": "3.9.12"
  }
 },
 "nbformat": 4,
 "nbformat_minor": 5
}
